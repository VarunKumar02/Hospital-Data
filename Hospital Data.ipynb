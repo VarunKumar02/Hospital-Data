{
 "cells": [
  {
   "cell_type": "markdown",
   "metadata": {},
   "source": [
    "# Disclaimer: in the real world we need clients consent before dropping or treating missing values, and before treating outliers. In other words, before manipulating the data in any way we need to ask client first."
   ]
  },
  {
   "cell_type": "markdown",
   "metadata": {},
   "source": [
    "# Problem Statement\n",
    "Management of hyperglycemia in hospitalized patients has a significant bearing on outcome, in terms of both morbidity and mortality. However, there are few national assessments of diabetes care during hospitalization which could serve as a baseline for change. This analysis of a large clinical database was undertaken to provide such an assessment and to find future directions which might lead to improvements in patient safety.  \n",
    "  \n",
    "Based on the given data, build a model to predict whether the patient is suffering from Diabetes or not? \n"
   ]
  },
  {
   "cell_type": "markdown",
   "metadata": {},
   "source": [
    "## Importing all required Libraries"
   ]
  },
  {
   "cell_type": "code",
   "execution_count": 1,
   "metadata": {
    "ExecuteTime": {
     "end_time": "2022-02-04T10:30:48.381910Z",
     "start_time": "2022-02-04T10:30:44.649633Z"
    }
   },
   "outputs": [],
   "source": [
    "import numpy as np\n",
    "import pandas as pd\n",
    "import matplotlib.pyplot as plt\n",
    "import seaborn as sns\n",
    "from sklearn import tree\n",
    "from sklearn.tree import DecisionTreeClassifier\n",
    "from sklearn.ensemble import RandomForestClassifier\n",
    "from sklearn.neural_network import MLPClassifier\n",
    "from sklearn.model_selection import train_test_split\n",
    "from sklearn.metrics import roc_auc_score,roc_curve,classification_report,confusion_matrix\n",
    "from sklearn.preprocessing import StandardScaler\n",
    "from sklearn.model_selection import GridSearchCV\n",
    "\n",
    "import warnings\n",
    "warnings.filterwarnings('ignore')"
   ]
  },
  {
   "cell_type": "markdown",
   "metadata": {},
   "source": [
    "## Loading the Data"
   ]
  },
  {
   "cell_type": "code",
   "execution_count": 2,
   "metadata": {
    "ExecuteTime": {
     "end_time": "2022-02-04T10:30:48.504157Z",
     "start_time": "2022-02-04T10:30:48.381910Z"
    }
   },
   "outputs": [],
   "source": [
    "df = pd.read_csv(\"dataset_diabetes_diabetic_data-1.csv\")"
   ]
  },
  {
   "cell_type": "markdown",
   "metadata": {},
   "source": [
    "## Checking the data"
   ]
  },
  {
   "cell_type": "code",
   "execution_count": 3,
   "metadata": {
    "ExecuteTime": {
     "end_time": "2022-02-04T10:30:48.535388Z",
     "start_time": "2022-02-04T10:30:48.504157Z"
    }
   },
   "outputs": [
    {
     "data": {
      "text/html": [
       "<div>\n",
       "<style scoped>\n",
       "    .dataframe tbody tr th:only-of-type {\n",
       "        vertical-align: middle;\n",
       "    }\n",
       "\n",
       "    .dataframe tbody tr th {\n",
       "        vertical-align: top;\n",
       "    }\n",
       "\n",
       "    .dataframe thead th {\n",
       "        text-align: right;\n",
       "    }\n",
       "</style>\n",
       "<table border=\"1\" class=\"dataframe\">\n",
       "  <thead>\n",
       "    <tr style=\"text-align: right;\">\n",
       "      <th></th>\n",
       "      <th>patient_nbr</th>\n",
       "      <th>race</th>\n",
       "      <th>gender</th>\n",
       "      <th>age</th>\n",
       "      <th>admission_type_id</th>\n",
       "      <th>discharge_disposition_id</th>\n",
       "      <th>admission_source_id</th>\n",
       "      <th>time_in_hospital</th>\n",
       "      <th>num_lab_procedures</th>\n",
       "      <th>num_procedures</th>\n",
       "      <th>num_medications</th>\n",
       "      <th>number_outpatient</th>\n",
       "      <th>number_emergency</th>\n",
       "      <th>number_inpatient</th>\n",
       "      <th>diag_1</th>\n",
       "      <th>diag_2</th>\n",
       "      <th>diag_3</th>\n",
       "      <th>number_diagnoses</th>\n",
       "      <th>change</th>\n",
       "      <th>diabatic</th>\n",
       "    </tr>\n",
       "  </thead>\n",
       "  <tbody>\n",
       "    <tr>\n",
       "      <th>0</th>\n",
       "      <td>8222157</td>\n",
       "      <td>Caucasian</td>\n",
       "      <td>Female</td>\n",
       "      <td>[0-10)</td>\n",
       "      <td>6</td>\n",
       "      <td>25</td>\n",
       "      <td>1</td>\n",
       "      <td>1</td>\n",
       "      <td>41</td>\n",
       "      <td>0</td>\n",
       "      <td>1</td>\n",
       "      <td>0</td>\n",
       "      <td>0</td>\n",
       "      <td>0</td>\n",
       "      <td>250.83</td>\n",
       "      <td>?</td>\n",
       "      <td>?</td>\n",
       "      <td>1</td>\n",
       "      <td>No</td>\n",
       "      <td>No</td>\n",
       "    </tr>\n",
       "    <tr>\n",
       "      <th>1</th>\n",
       "      <td>55629189</td>\n",
       "      <td>Caucasian</td>\n",
       "      <td>Female</td>\n",
       "      <td>[10-20)</td>\n",
       "      <td>1</td>\n",
       "      <td>1</td>\n",
       "      <td>7</td>\n",
       "      <td>3</td>\n",
       "      <td>59</td>\n",
       "      <td>0</td>\n",
       "      <td>18</td>\n",
       "      <td>0</td>\n",
       "      <td>0</td>\n",
       "      <td>0</td>\n",
       "      <td>276</td>\n",
       "      <td>250.01</td>\n",
       "      <td>255</td>\n",
       "      <td>9</td>\n",
       "      <td>Ch</td>\n",
       "      <td>Yes</td>\n",
       "    </tr>\n",
       "    <tr>\n",
       "      <th>2</th>\n",
       "      <td>86047875</td>\n",
       "      <td>AfricanAmerican</td>\n",
       "      <td>Female</td>\n",
       "      <td>[20-30)</td>\n",
       "      <td>1</td>\n",
       "      <td>1</td>\n",
       "      <td>7</td>\n",
       "      <td>2</td>\n",
       "      <td>11</td>\n",
       "      <td>5</td>\n",
       "      <td>13</td>\n",
       "      <td>2</td>\n",
       "      <td>0</td>\n",
       "      <td>1</td>\n",
       "      <td>648</td>\n",
       "      <td>250</td>\n",
       "      <td>V27</td>\n",
       "      <td>6</td>\n",
       "      <td>No</td>\n",
       "      <td>Yes</td>\n",
       "    </tr>\n",
       "    <tr>\n",
       "      <th>3</th>\n",
       "      <td>82442376</td>\n",
       "      <td>Caucasian</td>\n",
       "      <td>Male</td>\n",
       "      <td>[30-40)</td>\n",
       "      <td>1</td>\n",
       "      <td>1</td>\n",
       "      <td>7</td>\n",
       "      <td>2</td>\n",
       "      <td>44</td>\n",
       "      <td>1</td>\n",
       "      <td>16</td>\n",
       "      <td>0</td>\n",
       "      <td>0</td>\n",
       "      <td>0</td>\n",
       "      <td>8</td>\n",
       "      <td>250.43</td>\n",
       "      <td>403</td>\n",
       "      <td>7</td>\n",
       "      <td>Ch</td>\n",
       "      <td>Yes</td>\n",
       "    </tr>\n",
       "    <tr>\n",
       "      <th>4</th>\n",
       "      <td>42519267</td>\n",
       "      <td>Caucasian</td>\n",
       "      <td>Male</td>\n",
       "      <td>[40-50)</td>\n",
       "      <td>1</td>\n",
       "      <td>1</td>\n",
       "      <td>7</td>\n",
       "      <td>1</td>\n",
       "      <td>51</td>\n",
       "      <td>0</td>\n",
       "      <td>8</td>\n",
       "      <td>0</td>\n",
       "      <td>0</td>\n",
       "      <td>0</td>\n",
       "      <td>197</td>\n",
       "      <td>157</td>\n",
       "      <td>250</td>\n",
       "      <td>5</td>\n",
       "      <td>Ch</td>\n",
       "      <td>Yes</td>\n",
       "    </tr>\n",
       "  </tbody>\n",
       "</table>\n",
       "</div>"
      ],
      "text/plain": [
       "   patient_nbr             race  gender      age  admission_type_id  \\\n",
       "0      8222157        Caucasian  Female   [0-10)                  6   \n",
       "1     55629189        Caucasian  Female  [10-20)                  1   \n",
       "2     86047875  AfricanAmerican  Female  [20-30)                  1   \n",
       "3     82442376        Caucasian    Male  [30-40)                  1   \n",
       "4     42519267        Caucasian    Male  [40-50)                  1   \n",
       "\n",
       "   discharge_disposition_id  admission_source_id  time_in_hospital  \\\n",
       "0                        25                    1                 1   \n",
       "1                         1                    7                 3   \n",
       "2                         1                    7                 2   \n",
       "3                         1                    7                 2   \n",
       "4                         1                    7                 1   \n",
       "\n",
       "   num_lab_procedures  num_procedures  num_medications  number_outpatient  \\\n",
       "0                  41               0                1                  0   \n",
       "1                  59               0               18                  0   \n",
       "2                  11               5               13                  2   \n",
       "3                  44               1               16                  0   \n",
       "4                  51               0                8                  0   \n",
       "\n",
       "   number_emergency  number_inpatient  diag_1  diag_2 diag_3  \\\n",
       "0                 0                 0  250.83       ?      ?   \n",
       "1                 0                 0     276  250.01    255   \n",
       "2                 0                 1     648     250    V27   \n",
       "3                 0                 0       8  250.43    403   \n",
       "4                 0                 0     197     157    250   \n",
       "\n",
       "   number_diagnoses change diabatic  \n",
       "0                 1     No       No  \n",
       "1                 9     Ch      Yes  \n",
       "2                 6     No      Yes  \n",
       "3                 7     Ch      Yes  \n",
       "4                 5     Ch      Yes  "
      ]
     },
     "execution_count": 3,
     "metadata": {},
     "output_type": "execute_result"
    }
   ],
   "source": [
    "df.head()"
   ]
  },
  {
   "cell_type": "markdown",
   "metadata": {},
   "source": [
    "## Dropping unwanted variables"
   ]
  },
  {
   "cell_type": "code",
   "execution_count": 4,
   "metadata": {
    "ExecuteTime": {
     "end_time": "2022-02-04T10:30:48.607396Z",
     "start_time": "2022-02-04T10:30:48.535388Z"
    }
   },
   "outputs": [
    {
     "data": {
      "text/plain": [
       "0"
      ]
     },
     "execution_count": 4,
     "metadata": {},
     "output_type": "execute_result"
    }
   ],
   "source": [
    "df.duplicated().sum()"
   ]
  },
  {
   "cell_type": "code",
   "execution_count": 5,
   "metadata": {
    "ExecuteTime": {
     "end_time": "2022-02-04T10:30:48.630079Z",
     "start_time": "2022-02-04T10:30:48.607396Z"
    }
   },
   "outputs": [
    {
     "data": {
      "text/plain": [
       "70180"
      ]
     },
     "execution_count": 5,
     "metadata": {},
     "output_type": "execute_result"
    }
   ],
   "source": [
    "df.shape[0]"
   ]
  },
  {
   "cell_type": "code",
   "execution_count": 6,
   "metadata": {
    "ExecuteTime": {
     "end_time": "2022-02-04T10:30:48.649385Z",
     "start_time": "2022-02-04T10:30:48.638090Z"
    }
   },
   "outputs": [
    {
     "data": {
      "text/plain": [
       "52500"
      ]
     },
     "execution_count": 6,
     "metadata": {},
     "output_type": "execute_result"
    }
   ],
   "source": [
    "df['patient_nbr'].nunique()"
   ]
  },
  {
   "cell_type": "code",
   "execution_count": 7,
   "metadata": {
    "ExecuteTime": {
     "end_time": "2022-02-04T10:30:48.665644Z",
     "start_time": "2022-02-04T10:30:48.649385Z"
    }
   },
   "outputs": [
    {
     "data": {
      "text/plain": [
       "17680"
      ]
     },
     "execution_count": 7,
     "metadata": {},
     "output_type": "execute_result"
    }
   ],
   "source": [
    "df.shape[0] - df['patient_nbr'].nunique()"
   ]
  },
  {
   "cell_type": "code",
   "execution_count": 8,
   "metadata": {
    "ExecuteTime": {
     "end_time": "2022-02-04T10:30:48.681659Z",
     "start_time": "2022-02-04T10:30:48.665644Z"
    }
   },
   "outputs": [
    {
     "data": {
      "text/plain": [
       "17680"
      ]
     },
     "execution_count": 8,
     "metadata": {},
     "output_type": "execute_result"
    }
   ],
   "source": [
    "df.duplicated(subset = ['patient_nbr']).sum()"
   ]
  },
  {
   "cell_type": "code",
   "execution_count": 9,
   "metadata": {
    "ExecuteTime": {
     "end_time": "2022-02-04T10:30:48.697645Z",
     "start_time": "2022-02-04T10:30:48.681659Z"
    }
   },
   "outputs": [
    {
     "data": {
      "text/plain": [
       "1660293      23\n",
       "23199021     23\n",
       "23643405     22\n",
       "84428613     22\n",
       "89472402     20\n",
       "             ..\n",
       "21355677      1\n",
       "96588117      1\n",
       "61555455      1\n",
       "9540666       1\n",
       "175429310     1\n",
       "Name: patient_nbr, Length: 52500, dtype: int64"
      ]
     },
     "execution_count": 9,
     "metadata": {},
     "output_type": "execute_result"
    }
   ],
   "source": [
    "df['patient_nbr'].value_counts()"
   ]
  },
  {
   "cell_type": "code",
   "execution_count": 10,
   "metadata": {
    "ExecuteTime": {
     "end_time": "2022-02-04T10:30:48.729642Z",
     "start_time": "2022-02-04T10:30:48.697645Z"
    }
   },
   "outputs": [
    {
     "data": {
      "text/plain": [
       "41923"
      ]
     },
     "execution_count": 10,
     "metadata": {},
     "output_type": "execute_result"
    }
   ],
   "source": [
    "df['patient_nbr'].value_counts()[df['patient_nbr'].value_counts() == 1].shape[0]"
   ]
  },
  {
   "cell_type": "code",
   "execution_count": 11,
   "metadata": {
    "ExecuteTime": {
     "end_time": "2022-02-04T10:30:48.765724Z",
     "start_time": "2022-02-04T10:30:48.729642Z"
    }
   },
   "outputs": [
    {
     "data": {
      "text/plain": [
       "10577"
      ]
     },
     "execution_count": 11,
     "metadata": {},
     "output_type": "execute_result"
    }
   ],
   "source": [
    "df['patient_nbr'].value_counts()[df['patient_nbr'].value_counts() != 1].shape[0]"
   ]
  },
  {
   "cell_type": "code",
   "execution_count": 12,
   "metadata": {
    "ExecuteTime": {
     "end_time": "2022-02-04T10:30:48.797753Z",
     "start_time": "2022-02-04T10:30:48.765724Z"
    }
   },
   "outputs": [],
   "source": [
    "df.drop_duplicates(subset = ['patient_nbr'], keep = 'last', inplace = True)"
   ]
  },
  {
   "cell_type": "code",
   "execution_count": 13,
   "metadata": {
    "ExecuteTime": {
     "end_time": "2022-02-04T10:30:48.805726Z",
     "start_time": "2022-02-04T10:30:48.797753Z"
    }
   },
   "outputs": [
    {
     "data": {
      "text/plain": [
       "52500"
      ]
     },
     "execution_count": 13,
     "metadata": {},
     "output_type": "execute_result"
    }
   ],
   "source": [
    "df.shape[0]"
   ]
  },
  {
   "cell_type": "code",
   "execution_count": 14,
   "metadata": {
    "ExecuteTime": {
     "end_time": "2022-02-04T10:30:48.821738Z",
     "start_time": "2022-02-04T10:30:48.805726Z"
    }
   },
   "outputs": [],
   "source": [
    "df=df.drop([\"patient_nbr\"],axis=1) "
   ]
  },
  {
   "cell_type": "code",
   "execution_count": 15,
   "metadata": {
    "ExecuteTime": {
     "end_time": "2022-02-04T10:30:48.876162Z",
     "start_time": "2022-02-04T10:30:48.821738Z"
    }
   },
   "outputs": [
    {
     "name": "stdout",
     "output_type": "stream",
     "text": [
      "<class 'pandas.core.frame.DataFrame'>\n",
      "Int64Index: 52500 entries, 0 to 70179\n",
      "Data columns (total 19 columns):\n",
      " #   Column                    Non-Null Count  Dtype \n",
      "---  ------                    --------------  ----- \n",
      " 0   race                      52500 non-null  object\n",
      " 1   gender                    52500 non-null  object\n",
      " 2   age                       52500 non-null  object\n",
      " 3   admission_type_id         52500 non-null  int64 \n",
      " 4   discharge_disposition_id  52500 non-null  int64 \n",
      " 5   admission_source_id       52500 non-null  int64 \n",
      " 6   time_in_hospital          52500 non-null  int64 \n",
      " 7   num_lab_procedures        52500 non-null  int64 \n",
      " 8   num_procedures            52500 non-null  int64 \n",
      " 9   num_medications           52500 non-null  int64 \n",
      " 10  number_outpatient         52500 non-null  int64 \n",
      " 11  number_emergency          52500 non-null  int64 \n",
      " 12  number_inpatient          52500 non-null  int64 \n",
      " 13  diag_1                    52500 non-null  object\n",
      " 14  diag_2                    52500 non-null  object\n",
      " 15  diag_3                    52500 non-null  object\n",
      " 16  number_diagnoses          52500 non-null  int64 \n",
      " 17  change                    52500 non-null  object\n",
      " 18  diabatic                  52500 non-null  object\n",
      "dtypes: int64(11), object(8)\n",
      "memory usage: 8.0+ MB\n"
     ]
    }
   ],
   "source": [
    "df.info()"
   ]
  },
  {
   "cell_type": "markdown",
   "metadata": {},
   "source": [
    "diabatic is the target variable while all others are the predictors.  \n",
    "  \n",
    "Out of the 19 columns, 8 are object type, while remaining 11 are int.  \n",
    "<b>Object</b> - race, gender, age, diag_1, diag_2, diag_3, change, diabatic  \n",
    "<b>Int</b> -admission_type_id, discharge_disposition_id, admission_source_id, time_in_hospital, num_lab_procedures, num_procedures, num_medications, number_outpatient, number_emergency, number_inpatient, number_diagnoses\n",
    "  \n",
    "Since label encoding is already present in the data, some of the nominal variables are displayed as int.  \n",
    "Actual Nominal variables are 12:\n",
    "race, gender, age, admission_type_id, discharge_disposition_id, admission_source_id, diag_1, diag_2, diag_3, number_diagnoses, change, diabatic.\n",
    "  \n",
    "Actual Numeric variables are 7:\n",
    "time_in_hospital, num_lab_procedures, num_procedures, num_medications, number_outpatient, number_emergency, number_inpatient\n",
    "\n",
    "  \n",
    "It appears there are also no missing values."
   ]
  },
  {
   "cell_type": "markdown",
   "metadata": {},
   "source": [
    "## Check for missing value in any column"
   ]
  },
  {
   "cell_type": "code",
   "execution_count": 16,
   "metadata": {
    "ExecuteTime": {
     "end_time": "2022-02-04T10:30:48.903959Z",
     "start_time": "2022-02-04T10:30:48.876162Z"
    }
   },
   "outputs": [
    {
     "data": {
      "text/plain": [
       "race                        0\n",
       "gender                      0\n",
       "age                         0\n",
       "admission_type_id           0\n",
       "discharge_disposition_id    0\n",
       "admission_source_id         0\n",
       "time_in_hospital            0\n",
       "num_lab_procedures          0\n",
       "num_procedures              0\n",
       "num_medications             0\n",
       "number_outpatient           0\n",
       "number_emergency            0\n",
       "number_inpatient            0\n",
       "diag_1                      0\n",
       "diag_2                      0\n",
       "diag_3                      0\n",
       "number_diagnoses            0\n",
       "change                      0\n",
       "diabatic                    0\n",
       "dtype: int64"
      ]
     },
     "execution_count": 16,
     "metadata": {},
     "output_type": "execute_result"
    }
   ],
   "source": [
    "# Are there any missing values ?\n",
    "df.isnull().sum()"
   ]
  },
  {
   "cell_type": "code",
   "execution_count": 17,
   "metadata": {
    "ExecuteTime": {
     "end_time": "2022-02-04T10:30:48.935961Z",
     "start_time": "2022-02-04T10:30:48.903959Z"
    }
   },
   "outputs": [
    {
     "data": {
      "text/plain": [
       "race                           0\n",
       "gender                         0\n",
       "age                            0\n",
       "admission_type_id           6645\n",
       "discharge_disposition_id       0\n",
       "admission_source_id            0\n",
       "time_in_hospital               0\n",
       "num_lab_procedures             0\n",
       "num_procedures                 0\n",
       "num_medications                0\n",
       "number_outpatient              0\n",
       "number_emergency               0\n",
       "number_inpatient               0\n",
       "diag_1                         0\n",
       "diag_2                         0\n",
       "diag_3                         0\n",
       "number_diagnoses               0\n",
       "change                         0\n",
       "diabatic                       0\n",
       "dtype: int64"
      ]
     },
     "execution_count": 17,
     "metadata": {},
     "output_type": "execute_result"
    }
   ],
   "source": [
    "df['admission_type_id'].replace(5, np.nan, inplace = True)\n",
    "df['admission_type_id'].replace(6, np.nan, inplace = True)\n",
    "df['admission_type_id'].replace(8, np.nan, inplace = True)\n",
    "df.isnull().sum()"
   ]
  },
  {
   "cell_type": "code",
   "execution_count": 18,
   "metadata": {
    "ExecuteTime": {
     "end_time": "2022-02-04T10:30:48.974065Z",
     "start_time": "2022-02-04T10:30:48.935961Z"
    }
   },
   "outputs": [
    {
     "data": {
      "text/plain": [
       "race                           0\n",
       "gender                         0\n",
       "age                            0\n",
       "admission_type_id           6645\n",
       "discharge_disposition_id    2942\n",
       "admission_source_id            0\n",
       "time_in_hospital               0\n",
       "num_lab_procedures             0\n",
       "num_procedures                 0\n",
       "num_medications                0\n",
       "number_outpatient              0\n",
       "number_emergency               0\n",
       "number_inpatient               0\n",
       "diag_1                         0\n",
       "diag_2                         0\n",
       "diag_3                         0\n",
       "number_diagnoses               0\n",
       "change                         0\n",
       "diabatic                       0\n",
       "dtype: int64"
      ]
     },
     "execution_count": 18,
     "metadata": {},
     "output_type": "execute_result"
    }
   ],
   "source": [
    "df['discharge_disposition_id'].replace(18, np.nan, inplace = True)\n",
    "df['discharge_disposition_id'].replace(25, np.nan, inplace = True)\n",
    "df['discharge_disposition_id'].replace(26, np.nan, inplace = True)\n",
    "df.isnull().sum()"
   ]
  },
  {
   "cell_type": "code",
   "execution_count": 19,
   "metadata": {
    "ExecuteTime": {
     "end_time": "2022-02-04T10:30:49.006062Z",
     "start_time": "2022-02-04T10:30:48.974065Z"
    }
   },
   "outputs": [
    {
     "data": {
      "text/plain": [
       "race                           0\n",
       "gender                         0\n",
       "age                            0\n",
       "admission_type_id           6645\n",
       "discharge_disposition_id    2942\n",
       "admission_source_id         4725\n",
       "time_in_hospital               0\n",
       "num_lab_procedures             0\n",
       "num_procedures                 0\n",
       "num_medications                0\n",
       "number_outpatient              0\n",
       "number_emergency               0\n",
       "number_inpatient               0\n",
       "diag_1                         0\n",
       "diag_2                         0\n",
       "diag_3                         0\n",
       "number_diagnoses               0\n",
       "change                         0\n",
       "diabatic                       0\n",
       "dtype: int64"
      ]
     },
     "execution_count": 19,
     "metadata": {},
     "output_type": "execute_result"
    }
   ],
   "source": [
    "df['admission_source_id'].replace(9, np.nan, inplace = True)\n",
    "df['admission_source_id'].replace(15, np.nan, inplace = True)\n",
    "df['admission_source_id'].replace(17, np.nan, inplace = True)\n",
    "df['admission_source_id'].replace(20, np.nan, inplace = True)\n",
    "df['admission_source_id'].replace(21, np.nan, inplace = True)\n",
    "df.isnull().sum()"
   ]
  },
  {
   "cell_type": "code",
   "execution_count": 20,
   "metadata": {
    "ExecuteTime": {
     "end_time": "2022-02-04T10:30:49.038064Z",
     "start_time": "2022-02-04T10:30:49.006062Z"
    }
   },
   "outputs": [
    {
     "data": {
      "text/plain": [
       "9824"
      ]
     },
     "execution_count": 20,
     "metadata": {},
     "output_type": "execute_result"
    }
   ],
   "source": [
    "df[df.isnull().sum(axis = 1) != 0].shape[0]"
   ]
  },
  {
   "cell_type": "code",
   "execution_count": 21,
   "metadata": {
    "ExecuteTime": {
     "end_time": "2022-02-04T10:30:49.073921Z",
     "start_time": "2022-02-04T10:30:49.038064Z"
    }
   },
   "outputs": [
    {
     "data": {
      "text/plain": [
       "5569"
      ]
     },
     "execution_count": 21,
     "metadata": {},
     "output_type": "execute_result"
    }
   ],
   "source": [
    "df[df.isnull().sum(axis = 1) == 1].shape[0]"
   ]
  },
  {
   "cell_type": "code",
   "execution_count": 22,
   "metadata": {
    "ExecuteTime": {
     "end_time": "2022-02-04T10:30:49.119408Z",
     "start_time": "2022-02-04T10:30:49.073921Z"
    }
   },
   "outputs": [
    {
     "data": {
      "text/plain": [
       "4022"
      ]
     },
     "execution_count": 22,
     "metadata": {},
     "output_type": "execute_result"
    }
   ],
   "source": [
    "df[df.isnull().sum(axis = 1) == 2].shape[0]"
   ]
  },
  {
   "cell_type": "code",
   "execution_count": 23,
   "metadata": {
    "ExecuteTime": {
     "end_time": "2022-02-04T10:30:49.145628Z",
     "start_time": "2022-02-04T10:30:49.121480Z"
    }
   },
   "outputs": [
    {
     "data": {
      "text/plain": [
       "233"
      ]
     },
     "execution_count": 23,
     "metadata": {},
     "output_type": "execute_result"
    }
   ],
   "source": [
    "df[df.isnull().sum(axis = 1) == 3].shape[0]"
   ]
  },
  {
   "cell_type": "code",
   "execution_count": 24,
   "metadata": {
    "ExecuteTime": {
     "end_time": "2022-02-04T10:30:49.161557Z",
     "start_time": "2022-02-04T10:30:49.145628Z"
    }
   },
   "outputs": [
    {
     "data": {
      "text/plain": [
       "4725"
      ]
     },
     "execution_count": 24,
     "metadata": {},
     "output_type": "execute_result"
    }
   ],
   "source": [
    "df['admission_source_id'].isnull().sum()"
   ]
  },
  {
   "cell_type": "code",
   "execution_count": 25,
   "metadata": {
    "ExecuteTime": {
     "end_time": "2022-02-04T10:30:49.193609Z",
     "start_time": "2022-02-04T10:30:49.161557Z"
    }
   },
   "outputs": [],
   "source": [
    "for i in df.columns:\n",
    "    if df[i].isnull().sum() != 0:\n",
    "        df[i].replace(np.nan, df[i].median(), inplace = True)"
   ]
  },
  {
   "cell_type": "code",
   "execution_count": 26,
   "metadata": {
    "ExecuteTime": {
     "end_time": "2022-02-04T10:30:49.226204Z",
     "start_time": "2022-02-04T10:30:49.193609Z"
    }
   },
   "outputs": [
    {
     "data": {
      "text/plain": [
       "race                        0\n",
       "gender                      0\n",
       "age                         0\n",
       "admission_type_id           0\n",
       "discharge_disposition_id    0\n",
       "admission_source_id         0\n",
       "time_in_hospital            0\n",
       "num_lab_procedures          0\n",
       "num_procedures              0\n",
       "num_medications             0\n",
       "number_outpatient           0\n",
       "number_emergency            0\n",
       "number_inpatient            0\n",
       "diag_1                      0\n",
       "diag_2                      0\n",
       "diag_3                      0\n",
       "number_diagnoses            0\n",
       "change                      0\n",
       "diabatic                    0\n",
       "dtype: int64"
      ]
     },
     "execution_count": 26,
     "metadata": {},
     "output_type": "execute_result"
    }
   ],
   "source": [
    "df.isnull().sum()"
   ]
  },
  {
   "cell_type": "markdown",
   "metadata": {},
   "source": [
    "## Summary of the data"
   ]
  },
  {
   "cell_type": "code",
   "execution_count": 27,
   "metadata": {
    "ExecuteTime": {
     "end_time": "2022-02-04T10:30:49.323708Z",
     "start_time": "2022-02-04T10:30:49.226204Z"
    }
   },
   "outputs": [
    {
     "data": {
      "text/html": [
       "<div>\n",
       "<style scoped>\n",
       "    .dataframe tbody tr th:only-of-type {\n",
       "        vertical-align: middle;\n",
       "    }\n",
       "\n",
       "    .dataframe tbody tr th {\n",
       "        vertical-align: top;\n",
       "    }\n",
       "\n",
       "    .dataframe thead th {\n",
       "        text-align: right;\n",
       "    }\n",
       "</style>\n",
       "<table border=\"1\" class=\"dataframe\">\n",
       "  <thead>\n",
       "    <tr style=\"text-align: right;\">\n",
       "      <th></th>\n",
       "      <th>race</th>\n",
       "      <th>gender</th>\n",
       "      <th>age</th>\n",
       "      <th>admission_type_id</th>\n",
       "      <th>discharge_disposition_id</th>\n",
       "      <th>admission_source_id</th>\n",
       "      <th>time_in_hospital</th>\n",
       "      <th>num_lab_procedures</th>\n",
       "      <th>num_procedures</th>\n",
       "      <th>num_medications</th>\n",
       "      <th>number_outpatient</th>\n",
       "      <th>number_emergency</th>\n",
       "      <th>number_inpatient</th>\n",
       "      <th>diag_1</th>\n",
       "      <th>diag_2</th>\n",
       "      <th>diag_3</th>\n",
       "      <th>number_diagnoses</th>\n",
       "      <th>change</th>\n",
       "      <th>diabatic</th>\n",
       "    </tr>\n",
       "  </thead>\n",
       "  <tbody>\n",
       "    <tr>\n",
       "      <th>count</th>\n",
       "      <td>52500</td>\n",
       "      <td>52500</td>\n",
       "      <td>52500</td>\n",
       "      <td>52500.000000</td>\n",
       "      <td>52500.000000</td>\n",
       "      <td>52500.000000</td>\n",
       "      <td>52500.000000</td>\n",
       "      <td>52500.000000</td>\n",
       "      <td>52500.000000</td>\n",
       "      <td>52500.000000</td>\n",
       "      <td>52500.000000</td>\n",
       "      <td>52500.000000</td>\n",
       "      <td>52500.000000</td>\n",
       "      <td>52500</td>\n",
       "      <td>52500</td>\n",
       "      <td>52500</td>\n",
       "      <td>52500.000000</td>\n",
       "      <td>52500</td>\n",
       "      <td>52500</td>\n",
       "    </tr>\n",
       "    <tr>\n",
       "      <th>unique</th>\n",
       "      <td>6</td>\n",
       "      <td>3</td>\n",
       "      <td>10</td>\n",
       "      <td>NaN</td>\n",
       "      <td>NaN</td>\n",
       "      <td>NaN</td>\n",
       "      <td>NaN</td>\n",
       "      <td>NaN</td>\n",
       "      <td>NaN</td>\n",
       "      <td>NaN</td>\n",
       "      <td>NaN</td>\n",
       "      <td>NaN</td>\n",
       "      <td>NaN</td>\n",
       "      <td>667</td>\n",
       "      <td>664</td>\n",
       "      <td>697</td>\n",
       "      <td>NaN</td>\n",
       "      <td>2</td>\n",
       "      <td>2</td>\n",
       "    </tr>\n",
       "    <tr>\n",
       "      <th>top</th>\n",
       "      <td>Caucasian</td>\n",
       "      <td>Female</td>\n",
       "      <td>[70-80)</td>\n",
       "      <td>NaN</td>\n",
       "      <td>NaN</td>\n",
       "      <td>NaN</td>\n",
       "      <td>NaN</td>\n",
       "      <td>NaN</td>\n",
       "      <td>NaN</td>\n",
       "      <td>NaN</td>\n",
       "      <td>NaN</td>\n",
       "      <td>NaN</td>\n",
       "      <td>NaN</td>\n",
       "      <td>414</td>\n",
       "      <td>250</td>\n",
       "      <td>250</td>\n",
       "      <td>NaN</td>\n",
       "      <td>No</td>\n",
       "      <td>Yes</td>\n",
       "    </tr>\n",
       "    <tr>\n",
       "      <th>freq</th>\n",
       "      <td>38822</td>\n",
       "      <td>28175</td>\n",
       "      <td>13509</td>\n",
       "      <td>NaN</td>\n",
       "      <td>NaN</td>\n",
       "      <td>NaN</td>\n",
       "      <td>NaN</td>\n",
       "      <td>NaN</td>\n",
       "      <td>NaN</td>\n",
       "      <td>NaN</td>\n",
       "      <td>NaN</td>\n",
       "      <td>NaN</td>\n",
       "      <td>NaN</td>\n",
       "      <td>3861</td>\n",
       "      <td>3648</td>\n",
       "      <td>6646</td>\n",
       "      <td>NaN</td>\n",
       "      <td>33305</td>\n",
       "      <td>34193</td>\n",
       "    </tr>\n",
       "    <tr>\n",
       "      <th>mean</th>\n",
       "      <td>NaN</td>\n",
       "      <td>NaN</td>\n",
       "      <td>NaN</td>\n",
       "      <td>1.559200</td>\n",
       "      <td>2.772343</td>\n",
       "      <td>4.920667</td>\n",
       "      <td>4.341752</td>\n",
       "      <td>42.996171</td>\n",
       "      <td>1.398152</td>\n",
       "      <td>15.192629</td>\n",
       "      <td>0.280019</td>\n",
       "      <td>0.124819</td>\n",
       "      <td>0.476610</td>\n",
       "      <td>NaN</td>\n",
       "      <td>NaN</td>\n",
       "      <td>NaN</td>\n",
       "      <td>7.089352</td>\n",
       "      <td>NaN</td>\n",
       "      <td>NaN</td>\n",
       "    </tr>\n",
       "    <tr>\n",
       "      <th>std</th>\n",
       "      <td>NaN</td>\n",
       "      <td>NaN</td>\n",
       "      <td>NaN</td>\n",
       "      <td>0.783978</td>\n",
       "      <td>3.843406</td>\n",
       "      <td>2.727106</td>\n",
       "      <td>3.015526</td>\n",
       "      <td>19.347772</td>\n",
       "      <td>1.713572</td>\n",
       "      <td>8.201336</td>\n",
       "      <td>1.034855</td>\n",
       "      <td>0.660930</td>\n",
       "      <td>1.020395</td>\n",
       "      <td>NaN</td>\n",
       "      <td>NaN</td>\n",
       "      <td>NaN</td>\n",
       "      <td>2.018542</td>\n",
       "      <td>NaN</td>\n",
       "      <td>NaN</td>\n",
       "    </tr>\n",
       "    <tr>\n",
       "      <th>min</th>\n",
       "      <td>NaN</td>\n",
       "      <td>NaN</td>\n",
       "      <td>NaN</td>\n",
       "      <td>1.000000</td>\n",
       "      <td>1.000000</td>\n",
       "      <td>1.000000</td>\n",
       "      <td>1.000000</td>\n",
       "      <td>1.000000</td>\n",
       "      <td>0.000000</td>\n",
       "      <td>1.000000</td>\n",
       "      <td>0.000000</td>\n",
       "      <td>0.000000</td>\n",
       "      <td>0.000000</td>\n",
       "      <td>NaN</td>\n",
       "      <td>NaN</td>\n",
       "      <td>NaN</td>\n",
       "      <td>1.000000</td>\n",
       "      <td>NaN</td>\n",
       "      <td>NaN</td>\n",
       "    </tr>\n",
       "    <tr>\n",
       "      <th>25%</th>\n",
       "      <td>NaN</td>\n",
       "      <td>NaN</td>\n",
       "      <td>NaN</td>\n",
       "      <td>1.000000</td>\n",
       "      <td>1.000000</td>\n",
       "      <td>1.000000</td>\n",
       "      <td>2.000000</td>\n",
       "      <td>31.000000</td>\n",
       "      <td>0.000000</td>\n",
       "      <td>10.000000</td>\n",
       "      <td>0.000000</td>\n",
       "      <td>0.000000</td>\n",
       "      <td>0.000000</td>\n",
       "      <td>NaN</td>\n",
       "      <td>NaN</td>\n",
       "      <td>NaN</td>\n",
       "      <td>5.000000</td>\n",
       "      <td>NaN</td>\n",
       "      <td>NaN</td>\n",
       "    </tr>\n",
       "    <tr>\n",
       "      <th>50%</th>\n",
       "      <td>NaN</td>\n",
       "      <td>NaN</td>\n",
       "      <td>NaN</td>\n",
       "      <td>1.000000</td>\n",
       "      <td>1.000000</td>\n",
       "      <td>7.000000</td>\n",
       "      <td>4.000000</td>\n",
       "      <td>44.000000</td>\n",
       "      <td>1.000000</td>\n",
       "      <td>14.000000</td>\n",
       "      <td>0.000000</td>\n",
       "      <td>0.000000</td>\n",
       "      <td>0.000000</td>\n",
       "      <td>NaN</td>\n",
       "      <td>NaN</td>\n",
       "      <td>NaN</td>\n",
       "      <td>8.000000</td>\n",
       "      <td>NaN</td>\n",
       "      <td>NaN</td>\n",
       "    </tr>\n",
       "    <tr>\n",
       "      <th>75%</th>\n",
       "      <td>NaN</td>\n",
       "      <td>NaN</td>\n",
       "      <td>NaN</td>\n",
       "      <td>2.000000</td>\n",
       "      <td>3.000000</td>\n",
       "      <td>7.000000</td>\n",
       "      <td>6.000000</td>\n",
       "      <td>56.000000</td>\n",
       "      <td>2.000000</td>\n",
       "      <td>19.000000</td>\n",
       "      <td>0.000000</td>\n",
       "      <td>0.000000</td>\n",
       "      <td>1.000000</td>\n",
       "      <td>NaN</td>\n",
       "      <td>NaN</td>\n",
       "      <td>NaN</td>\n",
       "      <td>9.000000</td>\n",
       "      <td>NaN</td>\n",
       "      <td>NaN</td>\n",
       "    </tr>\n",
       "    <tr>\n",
       "      <th>max</th>\n",
       "      <td>NaN</td>\n",
       "      <td>NaN</td>\n",
       "      <td>NaN</td>\n",
       "      <td>7.000000</td>\n",
       "      <td>28.000000</td>\n",
       "      <td>14.000000</td>\n",
       "      <td>14.000000</td>\n",
       "      <td>129.000000</td>\n",
       "      <td>6.000000</td>\n",
       "      <td>81.000000</td>\n",
       "      <td>36.000000</td>\n",
       "      <td>64.000000</td>\n",
       "      <td>19.000000</td>\n",
       "      <td>NaN</td>\n",
       "      <td>NaN</td>\n",
       "      <td>NaN</td>\n",
       "      <td>16.000000</td>\n",
       "      <td>NaN</td>\n",
       "      <td>NaN</td>\n",
       "    </tr>\n",
       "  </tbody>\n",
       "</table>\n",
       "</div>"
      ],
      "text/plain": [
       "             race  gender      age  admission_type_id  \\\n",
       "count       52500   52500    52500       52500.000000   \n",
       "unique          6       3       10                NaN   \n",
       "top     Caucasian  Female  [70-80)                NaN   \n",
       "freq        38822   28175    13509                NaN   \n",
       "mean          NaN     NaN      NaN           1.559200   \n",
       "std           NaN     NaN      NaN           0.783978   \n",
       "min           NaN     NaN      NaN           1.000000   \n",
       "25%           NaN     NaN      NaN           1.000000   \n",
       "50%           NaN     NaN      NaN           1.000000   \n",
       "75%           NaN     NaN      NaN           2.000000   \n",
       "max           NaN     NaN      NaN           7.000000   \n",
       "\n",
       "        discharge_disposition_id  admission_source_id  time_in_hospital  \\\n",
       "count               52500.000000         52500.000000      52500.000000   \n",
       "unique                       NaN                  NaN               NaN   \n",
       "top                          NaN                  NaN               NaN   \n",
       "freq                         NaN                  NaN               NaN   \n",
       "mean                    2.772343             4.920667          4.341752   \n",
       "std                     3.843406             2.727106          3.015526   \n",
       "min                     1.000000             1.000000          1.000000   \n",
       "25%                     1.000000             1.000000          2.000000   \n",
       "50%                     1.000000             7.000000          4.000000   \n",
       "75%                     3.000000             7.000000          6.000000   \n",
       "max                    28.000000            14.000000         14.000000   \n",
       "\n",
       "        num_lab_procedures  num_procedures  num_medications  \\\n",
       "count         52500.000000    52500.000000     52500.000000   \n",
       "unique                 NaN             NaN              NaN   \n",
       "top                    NaN             NaN              NaN   \n",
       "freq                   NaN             NaN              NaN   \n",
       "mean             42.996171        1.398152        15.192629   \n",
       "std              19.347772        1.713572         8.201336   \n",
       "min               1.000000        0.000000         1.000000   \n",
       "25%              31.000000        0.000000        10.000000   \n",
       "50%              44.000000        1.000000        14.000000   \n",
       "75%              56.000000        2.000000        19.000000   \n",
       "max             129.000000        6.000000        81.000000   \n",
       "\n",
       "        number_outpatient  number_emergency  number_inpatient diag_1 diag_2  \\\n",
       "count        52500.000000      52500.000000      52500.000000  52500  52500   \n",
       "unique                NaN               NaN               NaN    667    664   \n",
       "top                   NaN               NaN               NaN    414    250   \n",
       "freq                  NaN               NaN               NaN   3861   3648   \n",
       "mean             0.280019          0.124819          0.476610    NaN    NaN   \n",
       "std              1.034855          0.660930          1.020395    NaN    NaN   \n",
       "min              0.000000          0.000000          0.000000    NaN    NaN   \n",
       "25%              0.000000          0.000000          0.000000    NaN    NaN   \n",
       "50%              0.000000          0.000000          0.000000    NaN    NaN   \n",
       "75%              0.000000          0.000000          1.000000    NaN    NaN   \n",
       "max             36.000000         64.000000         19.000000    NaN    NaN   \n",
       "\n",
       "       diag_3  number_diagnoses change diabatic  \n",
       "count   52500      52500.000000  52500    52500  \n",
       "unique    697               NaN      2        2  \n",
       "top       250               NaN     No      Yes  \n",
       "freq     6646               NaN  33305    34193  \n",
       "mean      NaN          7.089352    NaN      NaN  \n",
       "std       NaN          2.018542    NaN      NaN  \n",
       "min       NaN          1.000000    NaN      NaN  \n",
       "25%       NaN          5.000000    NaN      NaN  \n",
       "50%       NaN          8.000000    NaN      NaN  \n",
       "75%       NaN          9.000000    NaN      NaN  \n",
       "max       NaN         16.000000    NaN      NaN  "
      ]
     },
     "execution_count": 27,
     "metadata": {},
     "output_type": "execute_result"
    }
   ],
   "source": [
    "df.describe(include=\"all\")"
   ]
  },
  {
   "cell_type": "code",
   "execution_count": 28,
   "metadata": {
    "ExecuteTime": {
     "end_time": "2022-02-04T10:30:49.356964Z",
     "start_time": "2022-02-04T10:30:49.323708Z"
    }
   },
   "outputs": [
    {
     "data": {
      "text/html": [
       "<div>\n",
       "<style scoped>\n",
       "    .dataframe tbody tr th:only-of-type {\n",
       "        vertical-align: middle;\n",
       "    }\n",
       "\n",
       "    .dataframe tbody tr th {\n",
       "        vertical-align: top;\n",
       "    }\n",
       "\n",
       "    .dataframe thead th {\n",
       "        text-align: right;\n",
       "    }\n",
       "</style>\n",
       "<table border=\"1\" class=\"dataframe\">\n",
       "  <thead>\n",
       "    <tr style=\"text-align: right;\">\n",
       "      <th></th>\n",
       "      <th>race</th>\n",
       "      <th>gender</th>\n",
       "      <th>age</th>\n",
       "      <th>admission_type_id</th>\n",
       "      <th>discharge_disposition_id</th>\n",
       "      <th>admission_source_id</th>\n",
       "      <th>time_in_hospital</th>\n",
       "      <th>num_lab_procedures</th>\n",
       "      <th>num_procedures</th>\n",
       "      <th>num_medications</th>\n",
       "      <th>number_outpatient</th>\n",
       "      <th>number_emergency</th>\n",
       "      <th>number_inpatient</th>\n",
       "      <th>diag_1</th>\n",
       "      <th>diag_2</th>\n",
       "      <th>diag_3</th>\n",
       "      <th>number_diagnoses</th>\n",
       "      <th>change</th>\n",
       "      <th>diabatic</th>\n",
       "    </tr>\n",
       "  </thead>\n",
       "  <tbody>\n",
       "    <tr>\n",
       "      <th>0</th>\n",
       "      <td>Caucasian</td>\n",
       "      <td>Female</td>\n",
       "      <td>[0-10)</td>\n",
       "      <td>1.0</td>\n",
       "      <td>1.0</td>\n",
       "      <td>1.0</td>\n",
       "      <td>1</td>\n",
       "      <td>41</td>\n",
       "      <td>0</td>\n",
       "      <td>1</td>\n",
       "      <td>0</td>\n",
       "      <td>0</td>\n",
       "      <td>0</td>\n",
       "      <td>250.83</td>\n",
       "      <td>?</td>\n",
       "      <td>?</td>\n",
       "      <td>1</td>\n",
       "      <td>No</td>\n",
       "      <td>No</td>\n",
       "    </tr>\n",
       "    <tr>\n",
       "      <th>1</th>\n",
       "      <td>Caucasian</td>\n",
       "      <td>Female</td>\n",
       "      <td>[10-20)</td>\n",
       "      <td>1.0</td>\n",
       "      <td>1.0</td>\n",
       "      <td>7.0</td>\n",
       "      <td>3</td>\n",
       "      <td>59</td>\n",
       "      <td>0</td>\n",
       "      <td>18</td>\n",
       "      <td>0</td>\n",
       "      <td>0</td>\n",
       "      <td>0</td>\n",
       "      <td>276</td>\n",
       "      <td>250.01</td>\n",
       "      <td>255</td>\n",
       "      <td>9</td>\n",
       "      <td>Ch</td>\n",
       "      <td>Yes</td>\n",
       "    </tr>\n",
       "    <tr>\n",
       "      <th>2</th>\n",
       "      <td>AfricanAmerican</td>\n",
       "      <td>Female</td>\n",
       "      <td>[20-30)</td>\n",
       "      <td>1.0</td>\n",
       "      <td>1.0</td>\n",
       "      <td>7.0</td>\n",
       "      <td>2</td>\n",
       "      <td>11</td>\n",
       "      <td>5</td>\n",
       "      <td>13</td>\n",
       "      <td>2</td>\n",
       "      <td>0</td>\n",
       "      <td>1</td>\n",
       "      <td>648</td>\n",
       "      <td>250</td>\n",
       "      <td>V27</td>\n",
       "      <td>6</td>\n",
       "      <td>No</td>\n",
       "      <td>Yes</td>\n",
       "    </tr>\n",
       "    <tr>\n",
       "      <th>3</th>\n",
       "      <td>Caucasian</td>\n",
       "      <td>Male</td>\n",
       "      <td>[30-40)</td>\n",
       "      <td>1.0</td>\n",
       "      <td>1.0</td>\n",
       "      <td>7.0</td>\n",
       "      <td>2</td>\n",
       "      <td>44</td>\n",
       "      <td>1</td>\n",
       "      <td>16</td>\n",
       "      <td>0</td>\n",
       "      <td>0</td>\n",
       "      <td>0</td>\n",
       "      <td>8</td>\n",
       "      <td>250.43</td>\n",
       "      <td>403</td>\n",
       "      <td>7</td>\n",
       "      <td>Ch</td>\n",
       "      <td>Yes</td>\n",
       "    </tr>\n",
       "    <tr>\n",
       "      <th>4</th>\n",
       "      <td>Caucasian</td>\n",
       "      <td>Male</td>\n",
       "      <td>[40-50)</td>\n",
       "      <td>1.0</td>\n",
       "      <td>1.0</td>\n",
       "      <td>7.0</td>\n",
       "      <td>1</td>\n",
       "      <td>51</td>\n",
       "      <td>0</td>\n",
       "      <td>8</td>\n",
       "      <td>0</td>\n",
       "      <td>0</td>\n",
       "      <td>0</td>\n",
       "      <td>197</td>\n",
       "      <td>157</td>\n",
       "      <td>250</td>\n",
       "      <td>5</td>\n",
       "      <td>Ch</td>\n",
       "      <td>Yes</td>\n",
       "    </tr>\n",
       "    <tr>\n",
       "      <th>5</th>\n",
       "      <td>Caucasian</td>\n",
       "      <td>Male</td>\n",
       "      <td>[50-60)</td>\n",
       "      <td>2.0</td>\n",
       "      <td>1.0</td>\n",
       "      <td>2.0</td>\n",
       "      <td>3</td>\n",
       "      <td>31</td>\n",
       "      <td>6</td>\n",
       "      <td>16</td>\n",
       "      <td>0</td>\n",
       "      <td>0</td>\n",
       "      <td>0</td>\n",
       "      <td>414</td>\n",
       "      <td>411</td>\n",
       "      <td>250</td>\n",
       "      <td>9</td>\n",
       "      <td>No</td>\n",
       "      <td>Yes</td>\n",
       "    </tr>\n",
       "    <tr>\n",
       "      <th>6</th>\n",
       "      <td>Caucasian</td>\n",
       "      <td>Male</td>\n",
       "      <td>[60-70)</td>\n",
       "      <td>3.0</td>\n",
       "      <td>1.0</td>\n",
       "      <td>2.0</td>\n",
       "      <td>4</td>\n",
       "      <td>70</td>\n",
       "      <td>1</td>\n",
       "      <td>21</td>\n",
       "      <td>0</td>\n",
       "      <td>0</td>\n",
       "      <td>0</td>\n",
       "      <td>414</td>\n",
       "      <td>411</td>\n",
       "      <td>V45</td>\n",
       "      <td>7</td>\n",
       "      <td>Ch</td>\n",
       "      <td>Yes</td>\n",
       "    </tr>\n",
       "    <tr>\n",
       "      <th>7</th>\n",
       "      <td>Caucasian</td>\n",
       "      <td>Male</td>\n",
       "      <td>[70-80)</td>\n",
       "      <td>1.0</td>\n",
       "      <td>1.0</td>\n",
       "      <td>7.0</td>\n",
       "      <td>5</td>\n",
       "      <td>73</td>\n",
       "      <td>0</td>\n",
       "      <td>12</td>\n",
       "      <td>0</td>\n",
       "      <td>0</td>\n",
       "      <td>0</td>\n",
       "      <td>428</td>\n",
       "      <td>492</td>\n",
       "      <td>250</td>\n",
       "      <td>8</td>\n",
       "      <td>No</td>\n",
       "      <td>Yes</td>\n",
       "    </tr>\n",
       "    <tr>\n",
       "      <th>8</th>\n",
       "      <td>Caucasian</td>\n",
       "      <td>Female</td>\n",
       "      <td>[80-90)</td>\n",
       "      <td>2.0</td>\n",
       "      <td>1.0</td>\n",
       "      <td>4.0</td>\n",
       "      <td>13</td>\n",
       "      <td>68</td>\n",
       "      <td>2</td>\n",
       "      <td>28</td>\n",
       "      <td>0</td>\n",
       "      <td>0</td>\n",
       "      <td>0</td>\n",
       "      <td>398</td>\n",
       "      <td>427</td>\n",
       "      <td>38</td>\n",
       "      <td>8</td>\n",
       "      <td>Ch</td>\n",
       "      <td>Yes</td>\n",
       "    </tr>\n",
       "    <tr>\n",
       "      <th>9</th>\n",
       "      <td>Caucasian</td>\n",
       "      <td>Female</td>\n",
       "      <td>[90-100)</td>\n",
       "      <td>3.0</td>\n",
       "      <td>3.0</td>\n",
       "      <td>4.0</td>\n",
       "      <td>12</td>\n",
       "      <td>33</td>\n",
       "      <td>3</td>\n",
       "      <td>18</td>\n",
       "      <td>0</td>\n",
       "      <td>0</td>\n",
       "      <td>0</td>\n",
       "      <td>434</td>\n",
       "      <td>198</td>\n",
       "      <td>486</td>\n",
       "      <td>8</td>\n",
       "      <td>Ch</td>\n",
       "      <td>Yes</td>\n",
       "    </tr>\n",
       "  </tbody>\n",
       "</table>\n",
       "</div>"
      ],
      "text/plain": [
       "              race  gender       age  admission_type_id  \\\n",
       "0        Caucasian  Female    [0-10)                1.0   \n",
       "1        Caucasian  Female   [10-20)                1.0   \n",
       "2  AfricanAmerican  Female   [20-30)                1.0   \n",
       "3        Caucasian    Male   [30-40)                1.0   \n",
       "4        Caucasian    Male   [40-50)                1.0   \n",
       "5        Caucasian    Male   [50-60)                2.0   \n",
       "6        Caucasian    Male   [60-70)                3.0   \n",
       "7        Caucasian    Male   [70-80)                1.0   \n",
       "8        Caucasian  Female   [80-90)                2.0   \n",
       "9        Caucasian  Female  [90-100)                3.0   \n",
       "\n",
       "   discharge_disposition_id  admission_source_id  time_in_hospital  \\\n",
       "0                       1.0                  1.0                 1   \n",
       "1                       1.0                  7.0                 3   \n",
       "2                       1.0                  7.0                 2   \n",
       "3                       1.0                  7.0                 2   \n",
       "4                       1.0                  7.0                 1   \n",
       "5                       1.0                  2.0                 3   \n",
       "6                       1.0                  2.0                 4   \n",
       "7                       1.0                  7.0                 5   \n",
       "8                       1.0                  4.0                13   \n",
       "9                       3.0                  4.0                12   \n",
       "\n",
       "   num_lab_procedures  num_procedures  num_medications  number_outpatient  \\\n",
       "0                  41               0                1                  0   \n",
       "1                  59               0               18                  0   \n",
       "2                  11               5               13                  2   \n",
       "3                  44               1               16                  0   \n",
       "4                  51               0                8                  0   \n",
       "5                  31               6               16                  0   \n",
       "6                  70               1               21                  0   \n",
       "7                  73               0               12                  0   \n",
       "8                  68               2               28                  0   \n",
       "9                  33               3               18                  0   \n",
       "\n",
       "   number_emergency  number_inpatient  diag_1  diag_2 diag_3  \\\n",
       "0                 0                 0  250.83       ?      ?   \n",
       "1                 0                 0     276  250.01    255   \n",
       "2                 0                 1     648     250    V27   \n",
       "3                 0                 0       8  250.43    403   \n",
       "4                 0                 0     197     157    250   \n",
       "5                 0                 0     414     411    250   \n",
       "6                 0                 0     414     411    V45   \n",
       "7                 0                 0     428     492    250   \n",
       "8                 0                 0     398     427     38   \n",
       "9                 0                 0     434     198    486   \n",
       "\n",
       "   number_diagnoses change diabatic  \n",
       "0                 1     No       No  \n",
       "1                 9     Ch      Yes  \n",
       "2                 6     No      Yes  \n",
       "3                 7     Ch      Yes  \n",
       "4                 5     Ch      Yes  \n",
       "5                 9     No      Yes  \n",
       "6                 7     Ch      Yes  \n",
       "7                 8     No      Yes  \n",
       "8                 8     Ch      Yes  \n",
       "9                 8     Ch      Yes  "
      ]
     },
     "execution_count": 28,
     "metadata": {},
     "output_type": "execute_result"
    }
   ],
   "source": [
    "df.head(10)"
   ]
  },
  {
   "cell_type": "code",
   "execution_count": 29,
   "metadata": {
    "ExecuteTime": {
     "end_time": "2022-02-04T10:30:49.368119Z",
     "start_time": "2022-02-04T10:30:49.356964Z"
    }
   },
   "outputs": [],
   "source": [
    "#import pandas_profiling\n",
    "#profile = df.profile_report(title='Report on patient data')\n",
    "#profile.to_file(output_file=\"E2E Patient Data.html\")"
   ]
  },
  {
   "cell_type": "markdown",
   "metadata": {},
   "source": [
    "Some variables has invalid character \"?\""
   ]
  },
  {
   "cell_type": "markdown",
   "metadata": {},
   "source": [
    "## Geting unique counts of all Nominal Variables"
   ]
  },
  {
   "cell_type": "code",
   "execution_count": 30,
   "metadata": {
    "ExecuteTime": {
     "end_time": "2022-02-04T10:30:49.454506Z",
     "start_time": "2022-02-04T10:30:49.368119Z"
    },
    "scrolled": false
   },
   "outputs": [
    {
     "name": "stdout",
     "output_type": "stream",
     "text": [
      "RACE :  6\n",
      "Asian                314\n",
      "Other                718\n",
      "Hispanic            1013\n",
      "?                   1247\n",
      "AfricanAmerican    10386\n",
      "Caucasian          38822\n",
      "Name: race, dtype: int64\n",
      "\n",
      "\n",
      "GENDER :  3\n",
      "Unknown/Invalid        2\n",
      "Male               24323\n",
      "Female             28175\n",
      "Name: gender, dtype: int64\n",
      "\n",
      "\n",
      "AGE :  10\n",
      "[0-10)        149\n",
      "[10-20)       432\n",
      "[20-30)       820\n",
      "[90-100)     1451\n",
      "[30-40)      2018\n",
      "[40-50)      5055\n",
      "[80-90)      8489\n",
      "[50-60)      9141\n",
      "[60-70)     11436\n",
      "[70-80)     13509\n",
      "Name: age, dtype: int64\n",
      "\n",
      "\n",
      "ADMISSION_TYPE_ID :  5\n",
      "4.0        7\n",
      "7.0        7\n",
      "3.0     9537\n",
      "2.0    10221\n",
      "1.0    32728\n",
      "Name: admission_type_id, dtype: int64\n",
      "\n",
      "\n",
      "DISCHARGE_DISPOSITION_ID :  24\n",
      "27.0        2\n",
      "12.0        2\n",
      "20.0        2\n",
      "19.0        5\n",
      "16.0        5\n",
      "10.0        6\n",
      "9.0         8\n",
      "17.0       11\n",
      "24.0       14\n",
      "15.0       22\n",
      "28.0       51\n",
      "8.0        71\n",
      "13.0      213\n",
      "14.0      213\n",
      "23.0      217\n",
      "7.0       310\n",
      "4.0       510\n",
      "5.0       734\n",
      "22.0      868\n",
      "2.0      1134\n",
      "11.0     1254\n",
      "6.0      5824\n",
      "3.0      6263\n",
      "1.0     34761\n",
      "Name: discharge_disposition_id, dtype: int64\n",
      "\n",
      "\n",
      "ADMISSION_SOURCE_ID :  10\n",
      "10.0        1\n",
      "14.0        2\n",
      "8.0         6\n",
      "3.0       115\n",
      "5.0       542\n",
      "2.0       881\n",
      "6.0      1722\n",
      "4.0      2171\n",
      "1.0     15834\n",
      "7.0     31226\n",
      "Name: admission_source_id, dtype: int64\n",
      "\n",
      "\n",
      "DIAG_1 :  667\n",
      "583       1\n",
      "314       1\n",
      "543       1\n",
      "988       1\n",
      "110       1\n",
      "       ... \n",
      "486    1728\n",
      "410    2078\n",
      "786    2369\n",
      "428    3064\n",
      "414    3861\n",
      "Name: diag_1, Length: 667, dtype: int64\n",
      "\n",
      "\n",
      "DIAG_2 :  664\n",
      "E853       1\n",
      "641        1\n",
      "395        1\n",
      "866        1\n",
      "748        1\n",
      "        ... \n",
      "401     2240\n",
      "427     2652\n",
      "276     3357\n",
      "428     3397\n",
      "250     3648\n",
      "Name: diag_2, Length: 664, dtype: int64\n",
      "\n",
      "\n",
      "DIAG_3 :  697\n",
      "E920       1\n",
      "702        1\n",
      "E892       1\n",
      "V86        1\n",
      "148        1\n",
      "        ... \n",
      "427     2077\n",
      "428     2207\n",
      "276     2453\n",
      "401     4854\n",
      "250     6646\n",
      "Name: diag_3, Length: 697, dtype: int64\n",
      "\n",
      "\n",
      "NUMBER_DIAGNOSES :  16\n",
      "13        1\n",
      "11        1\n",
      "14        1\n",
      "10        2\n",
      "15        3\n",
      "12        4\n",
      "16        7\n",
      "1       162\n",
      "2       731\n",
      "3      1900\n",
      "4      3522\n",
      "8      5587\n",
      "7      5674\n",
      "6      6021\n",
      "5      7495\n",
      "9     21389\n",
      "Name: number_diagnoses, dtype: int64\n",
      "\n",
      "\n",
      "CHANGE :  2\n",
      "Ch    19195\n",
      "No    33305\n",
      "Name: change, dtype: int64\n",
      "\n",
      "\n",
      "DIABATIC :  2\n",
      "No     18307\n",
      "Yes    34193\n",
      "Name: diabatic, dtype: int64\n",
      "\n",
      "\n"
     ]
    }
   ],
   "source": [
    "for column in df[['race', 'gender', 'age', 'admission_type_id', 'discharge_disposition_id', 'admission_source_id', \n",
    "                   'diag_1', 'diag_2', 'diag_3', 'number_diagnoses', 'change', 'diabatic']]:\n",
    "    print(column.upper(),': ',df[column].nunique())\n",
    "    print(df[column].value_counts().sort_values())\n",
    "    print('\\n')"
   ]
  },
  {
   "cell_type": "markdown",
   "metadata": {},
   "source": [
    "race, diag1, diag2 and diag3 has ?"
   ]
  },
  {
   "cell_type": "markdown",
   "metadata": {},
   "source": [
    "diag1, diag2, diag3 — are categorical and have a lot of values. We will remove these and use number_diagnoses to capture some of this information."
   ]
  },
  {
   "cell_type": "code",
   "execution_count": 31,
   "metadata": {
    "ExecuteTime": {
     "end_time": "2022-02-04T10:30:49.470514Z",
     "start_time": "2022-02-04T10:30:49.454506Z"
    }
   },
   "outputs": [
    {
     "name": "stdout",
     "output_type": "stream",
     "text": [
      "Before Removing:  (52500, 19)\n",
      "After Removing:  (52500, 16)\n"
     ]
    }
   ],
   "source": [
    "print('Before Removing: ',df.shape)\n",
    "df=df.drop([\"diag_1\",\"diag_2\",\"diag_3\"],axis=1) \n",
    "print('After Removing: ',df.shape)"
   ]
  },
  {
   "cell_type": "markdown",
   "metadata": {},
   "source": [
    "This leaves us with 1461 values in race variable that has ?  \n",
    "Since this is a categorical variable, we can either have these as a separate group, or we will remove them, since we still have sufficient data"
   ]
  },
  {
   "cell_type": "code",
   "execution_count": 32,
   "metadata": {
    "ExecuteTime": {
     "end_time": "2022-02-04T10:30:49.505483Z",
     "start_time": "2022-02-04T10:30:49.470514Z"
    }
   },
   "outputs": [
    {
     "name": "stdout",
     "output_type": "stream",
     "text": [
      "Before:  (52500, 16)\n",
      "After:  (51253, 16)\n"
     ]
    }
   ],
   "source": [
    "print('Before: ',df.shape)\n",
    "# Replace ? to Nan and remove all missing values\n",
    "df.race = df.race.replace(to_replace = '?', value =np.nan)\n",
    "df.dropna(inplace=True)\n",
    "print('After: ',df.shape)"
   ]
  },
  {
   "cell_type": "markdown",
   "metadata": {},
   "source": [
    "## Check for duplicate data"
   ]
  },
  {
   "cell_type": "code",
   "execution_count": 33,
   "metadata": {
    "ExecuteTime": {
     "end_time": "2022-02-04T10:30:49.573876Z",
     "start_time": "2022-02-04T10:30:49.505483Z"
    }
   },
   "outputs": [
    {
     "name": "stdout",
     "output_type": "stream",
     "text": [
      "Number of duplicate rows = 28\n"
     ]
    },
    {
     "data": {
      "text/html": [
       "<div>\n",
       "<style scoped>\n",
       "    .dataframe tbody tr th:only-of-type {\n",
       "        vertical-align: middle;\n",
       "    }\n",
       "\n",
       "    .dataframe tbody tr th {\n",
       "        vertical-align: top;\n",
       "    }\n",
       "\n",
       "    .dataframe thead th {\n",
       "        text-align: right;\n",
       "    }\n",
       "</style>\n",
       "<table border=\"1\" class=\"dataframe\">\n",
       "  <thead>\n",
       "    <tr style=\"text-align: right;\">\n",
       "      <th></th>\n",
       "      <th>race</th>\n",
       "      <th>gender</th>\n",
       "      <th>age</th>\n",
       "      <th>admission_type_id</th>\n",
       "      <th>discharge_disposition_id</th>\n",
       "      <th>admission_source_id</th>\n",
       "      <th>time_in_hospital</th>\n",
       "      <th>num_lab_procedures</th>\n",
       "      <th>num_procedures</th>\n",
       "      <th>num_medications</th>\n",
       "      <th>number_outpatient</th>\n",
       "      <th>number_emergency</th>\n",
       "      <th>number_inpatient</th>\n",
       "      <th>number_diagnoses</th>\n",
       "      <th>change</th>\n",
       "      <th>diabatic</th>\n",
       "    </tr>\n",
       "  </thead>\n",
       "  <tbody>\n",
       "    <tr>\n",
       "      <th>4722</th>\n",
       "      <td>AfricanAmerican</td>\n",
       "      <td>Female</td>\n",
       "      <td>[10-20)</td>\n",
       "      <td>1.0</td>\n",
       "      <td>1.0</td>\n",
       "      <td>7.0</td>\n",
       "      <td>3</td>\n",
       "      <td>51</td>\n",
       "      <td>0</td>\n",
       "      <td>3</td>\n",
       "      <td>0</td>\n",
       "      <td>0</td>\n",
       "      <td>0</td>\n",
       "      <td>1</td>\n",
       "      <td>No</td>\n",
       "      <td>Yes</td>\n",
       "    </tr>\n",
       "    <tr>\n",
       "      <th>16811</th>\n",
       "      <td>Caucasian</td>\n",
       "      <td>Female</td>\n",
       "      <td>[60-70)</td>\n",
       "      <td>1.0</td>\n",
       "      <td>1.0</td>\n",
       "      <td>7.0</td>\n",
       "      <td>3</td>\n",
       "      <td>39</td>\n",
       "      <td>0</td>\n",
       "      <td>11</td>\n",
       "      <td>0</td>\n",
       "      <td>0</td>\n",
       "      <td>0</td>\n",
       "      <td>5</td>\n",
       "      <td>No</td>\n",
       "      <td>Yes</td>\n",
       "    </tr>\n",
       "    <tr>\n",
       "      <th>17298</th>\n",
       "      <td>Caucasian</td>\n",
       "      <td>Female</td>\n",
       "      <td>[20-30)</td>\n",
       "      <td>3.0</td>\n",
       "      <td>1.0</td>\n",
       "      <td>1.0</td>\n",
       "      <td>3</td>\n",
       "      <td>22</td>\n",
       "      <td>1</td>\n",
       "      <td>15</td>\n",
       "      <td>0</td>\n",
       "      <td>0</td>\n",
       "      <td>0</td>\n",
       "      <td>7</td>\n",
       "      <td>No</td>\n",
       "      <td>No</td>\n",
       "    </tr>\n",
       "    <tr>\n",
       "      <th>19767</th>\n",
       "      <td>Caucasian</td>\n",
       "      <td>Male</td>\n",
       "      <td>[80-90)</td>\n",
       "      <td>1.0</td>\n",
       "      <td>3.0</td>\n",
       "      <td>7.0</td>\n",
       "      <td>4</td>\n",
       "      <td>22</td>\n",
       "      <td>0</td>\n",
       "      <td>12</td>\n",
       "      <td>0</td>\n",
       "      <td>0</td>\n",
       "      <td>0</td>\n",
       "      <td>9</td>\n",
       "      <td>Ch</td>\n",
       "      <td>Yes</td>\n",
       "    </tr>\n",
       "    <tr>\n",
       "      <th>20513</th>\n",
       "      <td>Caucasian</td>\n",
       "      <td>Male</td>\n",
       "      <td>[60-70)</td>\n",
       "      <td>1.0</td>\n",
       "      <td>1.0</td>\n",
       "      <td>7.0</td>\n",
       "      <td>2</td>\n",
       "      <td>42</td>\n",
       "      <td>3</td>\n",
       "      <td>15</td>\n",
       "      <td>0</td>\n",
       "      <td>0</td>\n",
       "      <td>0</td>\n",
       "      <td>6</td>\n",
       "      <td>No</td>\n",
       "      <td>Yes</td>\n",
       "    </tr>\n",
       "    <tr>\n",
       "      <th>23932</th>\n",
       "      <td>AfricanAmerican</td>\n",
       "      <td>Female</td>\n",
       "      <td>[50-60)</td>\n",
       "      <td>1.0</td>\n",
       "      <td>1.0</td>\n",
       "      <td>7.0</td>\n",
       "      <td>2</td>\n",
       "      <td>34</td>\n",
       "      <td>0</td>\n",
       "      <td>8</td>\n",
       "      <td>0</td>\n",
       "      <td>0</td>\n",
       "      <td>0</td>\n",
       "      <td>4</td>\n",
       "      <td>No</td>\n",
       "      <td>Yes</td>\n",
       "    </tr>\n",
       "    <tr>\n",
       "      <th>24690</th>\n",
       "      <td>Caucasian</td>\n",
       "      <td>Male</td>\n",
       "      <td>[70-80)</td>\n",
       "      <td>1.0</td>\n",
       "      <td>1.0</td>\n",
       "      <td>7.0</td>\n",
       "      <td>3</td>\n",
       "      <td>59</td>\n",
       "      <td>0</td>\n",
       "      <td>8</td>\n",
       "      <td>0</td>\n",
       "      <td>0</td>\n",
       "      <td>0</td>\n",
       "      <td>7</td>\n",
       "      <td>No</td>\n",
       "      <td>Yes</td>\n",
       "    </tr>\n",
       "    <tr>\n",
       "      <th>29525</th>\n",
       "      <td>Caucasian</td>\n",
       "      <td>Male</td>\n",
       "      <td>[40-50)</td>\n",
       "      <td>1.0</td>\n",
       "      <td>1.0</td>\n",
       "      <td>7.0</td>\n",
       "      <td>1</td>\n",
       "      <td>35</td>\n",
       "      <td>5</td>\n",
       "      <td>13</td>\n",
       "      <td>0</td>\n",
       "      <td>0</td>\n",
       "      <td>0</td>\n",
       "      <td>8</td>\n",
       "      <td>Ch</td>\n",
       "      <td>Yes</td>\n",
       "    </tr>\n",
       "    <tr>\n",
       "      <th>34892</th>\n",
       "      <td>AfricanAmerican</td>\n",
       "      <td>Female</td>\n",
       "      <td>[50-60)</td>\n",
       "      <td>1.0</td>\n",
       "      <td>1.0</td>\n",
       "      <td>7.0</td>\n",
       "      <td>1</td>\n",
       "      <td>46</td>\n",
       "      <td>0</td>\n",
       "      <td>10</td>\n",
       "      <td>0</td>\n",
       "      <td>0</td>\n",
       "      <td>0</td>\n",
       "      <td>6</td>\n",
       "      <td>No</td>\n",
       "      <td>Yes</td>\n",
       "    </tr>\n",
       "    <tr>\n",
       "      <th>41130</th>\n",
       "      <td>Caucasian</td>\n",
       "      <td>Female</td>\n",
       "      <td>[50-60)</td>\n",
       "      <td>1.0</td>\n",
       "      <td>1.0</td>\n",
       "      <td>7.0</td>\n",
       "      <td>1</td>\n",
       "      <td>41</td>\n",
       "      <td>0</td>\n",
       "      <td>8</td>\n",
       "      <td>0</td>\n",
       "      <td>0</td>\n",
       "      <td>0</td>\n",
       "      <td>5</td>\n",
       "      <td>Ch</td>\n",
       "      <td>Yes</td>\n",
       "    </tr>\n",
       "    <tr>\n",
       "      <th>44590</th>\n",
       "      <td>Caucasian</td>\n",
       "      <td>Male</td>\n",
       "      <td>[70-80)</td>\n",
       "      <td>1.0</td>\n",
       "      <td>1.0</td>\n",
       "      <td>7.0</td>\n",
       "      <td>1</td>\n",
       "      <td>32</td>\n",
       "      <td>0</td>\n",
       "      <td>4</td>\n",
       "      <td>0</td>\n",
       "      <td>0</td>\n",
       "      <td>0</td>\n",
       "      <td>3</td>\n",
       "      <td>No</td>\n",
       "      <td>Yes</td>\n",
       "    </tr>\n",
       "    <tr>\n",
       "      <th>56598</th>\n",
       "      <td>Caucasian</td>\n",
       "      <td>Male</td>\n",
       "      <td>[70-80)</td>\n",
       "      <td>1.0</td>\n",
       "      <td>1.0</td>\n",
       "      <td>7.0</td>\n",
       "      <td>2</td>\n",
       "      <td>59</td>\n",
       "      <td>0</td>\n",
       "      <td>9</td>\n",
       "      <td>0</td>\n",
       "      <td>0</td>\n",
       "      <td>0</td>\n",
       "      <td>9</td>\n",
       "      <td>No</td>\n",
       "      <td>No</td>\n",
       "    </tr>\n",
       "    <tr>\n",
       "      <th>56744</th>\n",
       "      <td>AfricanAmerican</td>\n",
       "      <td>Male</td>\n",
       "      <td>[70-80)</td>\n",
       "      <td>1.0</td>\n",
       "      <td>1.0</td>\n",
       "      <td>7.0</td>\n",
       "      <td>4</td>\n",
       "      <td>45</td>\n",
       "      <td>0</td>\n",
       "      <td>15</td>\n",
       "      <td>0</td>\n",
       "      <td>0</td>\n",
       "      <td>0</td>\n",
       "      <td>9</td>\n",
       "      <td>Ch</td>\n",
       "      <td>Yes</td>\n",
       "    </tr>\n",
       "    <tr>\n",
       "      <th>59066</th>\n",
       "      <td>Caucasian</td>\n",
       "      <td>Male</td>\n",
       "      <td>[70-80)</td>\n",
       "      <td>1.0</td>\n",
       "      <td>1.0</td>\n",
       "      <td>7.0</td>\n",
       "      <td>1</td>\n",
       "      <td>40</td>\n",
       "      <td>0</td>\n",
       "      <td>7</td>\n",
       "      <td>0</td>\n",
       "      <td>0</td>\n",
       "      <td>0</td>\n",
       "      <td>4</td>\n",
       "      <td>No</td>\n",
       "      <td>Yes</td>\n",
       "    </tr>\n",
       "    <tr>\n",
       "      <th>61728</th>\n",
       "      <td>AfricanAmerican</td>\n",
       "      <td>Male</td>\n",
       "      <td>[40-50)</td>\n",
       "      <td>1.0</td>\n",
       "      <td>1.0</td>\n",
       "      <td>7.0</td>\n",
       "      <td>1</td>\n",
       "      <td>41</td>\n",
       "      <td>0</td>\n",
       "      <td>9</td>\n",
       "      <td>0</td>\n",
       "      <td>0</td>\n",
       "      <td>0</td>\n",
       "      <td>6</td>\n",
       "      <td>Ch</td>\n",
       "      <td>Yes</td>\n",
       "    </tr>\n",
       "    <tr>\n",
       "      <th>62044</th>\n",
       "      <td>Caucasian</td>\n",
       "      <td>Male</td>\n",
       "      <td>[70-80)</td>\n",
       "      <td>1.0</td>\n",
       "      <td>6.0</td>\n",
       "      <td>7.0</td>\n",
       "      <td>2</td>\n",
       "      <td>1</td>\n",
       "      <td>0</td>\n",
       "      <td>10</td>\n",
       "      <td>0</td>\n",
       "      <td>0</td>\n",
       "      <td>0</td>\n",
       "      <td>9</td>\n",
       "      <td>No</td>\n",
       "      <td>Yes</td>\n",
       "    </tr>\n",
       "    <tr>\n",
       "      <th>62366</th>\n",
       "      <td>AfricanAmerican</td>\n",
       "      <td>Female</td>\n",
       "      <td>[50-60)</td>\n",
       "      <td>2.0</td>\n",
       "      <td>1.0</td>\n",
       "      <td>1.0</td>\n",
       "      <td>4</td>\n",
       "      <td>45</td>\n",
       "      <td>0</td>\n",
       "      <td>11</td>\n",
       "      <td>0</td>\n",
       "      <td>0</td>\n",
       "      <td>0</td>\n",
       "      <td>9</td>\n",
       "      <td>No</td>\n",
       "      <td>No</td>\n",
       "    </tr>\n",
       "    <tr>\n",
       "      <th>62492</th>\n",
       "      <td>Caucasian</td>\n",
       "      <td>Female</td>\n",
       "      <td>[50-60)</td>\n",
       "      <td>1.0</td>\n",
       "      <td>1.0</td>\n",
       "      <td>7.0</td>\n",
       "      <td>3</td>\n",
       "      <td>40</td>\n",
       "      <td>0</td>\n",
       "      <td>16</td>\n",
       "      <td>0</td>\n",
       "      <td>0</td>\n",
       "      <td>0</td>\n",
       "      <td>9</td>\n",
       "      <td>No</td>\n",
       "      <td>No</td>\n",
       "    </tr>\n",
       "    <tr>\n",
       "      <th>63936</th>\n",
       "      <td>Caucasian</td>\n",
       "      <td>Male</td>\n",
       "      <td>[70-80)</td>\n",
       "      <td>1.0</td>\n",
       "      <td>7.0</td>\n",
       "      <td>7.0</td>\n",
       "      <td>1</td>\n",
       "      <td>45</td>\n",
       "      <td>2</td>\n",
       "      <td>3</td>\n",
       "      <td>0</td>\n",
       "      <td>0</td>\n",
       "      <td>0</td>\n",
       "      <td>9</td>\n",
       "      <td>No</td>\n",
       "      <td>No</td>\n",
       "    </tr>\n",
       "    <tr>\n",
       "      <th>66566</th>\n",
       "      <td>Caucasian</td>\n",
       "      <td>Female</td>\n",
       "      <td>[40-50)</td>\n",
       "      <td>1.0</td>\n",
       "      <td>1.0</td>\n",
       "      <td>7.0</td>\n",
       "      <td>1</td>\n",
       "      <td>2</td>\n",
       "      <td>0</td>\n",
       "      <td>5</td>\n",
       "      <td>0</td>\n",
       "      <td>0</td>\n",
       "      <td>0</td>\n",
       "      <td>9</td>\n",
       "      <td>No</td>\n",
       "      <td>No</td>\n",
       "    </tr>\n",
       "    <tr>\n",
       "      <th>66963</th>\n",
       "      <td>Caucasian</td>\n",
       "      <td>Male</td>\n",
       "      <td>[60-70)</td>\n",
       "      <td>3.0</td>\n",
       "      <td>1.0</td>\n",
       "      <td>1.0</td>\n",
       "      <td>1</td>\n",
       "      <td>31</td>\n",
       "      <td>6</td>\n",
       "      <td>5</td>\n",
       "      <td>0</td>\n",
       "      <td>0</td>\n",
       "      <td>0</td>\n",
       "      <td>5</td>\n",
       "      <td>No</td>\n",
       "      <td>No</td>\n",
       "    </tr>\n",
       "    <tr>\n",
       "      <th>67380</th>\n",
       "      <td>Caucasian</td>\n",
       "      <td>Male</td>\n",
       "      <td>[50-60)</td>\n",
       "      <td>1.0</td>\n",
       "      <td>1.0</td>\n",
       "      <td>7.0</td>\n",
       "      <td>2</td>\n",
       "      <td>43</td>\n",
       "      <td>0</td>\n",
       "      <td>8</td>\n",
       "      <td>0</td>\n",
       "      <td>0</td>\n",
       "      <td>0</td>\n",
       "      <td>6</td>\n",
       "      <td>No</td>\n",
       "      <td>No</td>\n",
       "    </tr>\n",
       "    <tr>\n",
       "      <th>67578</th>\n",
       "      <td>Caucasian</td>\n",
       "      <td>Female</td>\n",
       "      <td>[80-90)</td>\n",
       "      <td>1.0</td>\n",
       "      <td>1.0</td>\n",
       "      <td>7.0</td>\n",
       "      <td>3</td>\n",
       "      <td>56</td>\n",
       "      <td>0</td>\n",
       "      <td>10</td>\n",
       "      <td>0</td>\n",
       "      <td>0</td>\n",
       "      <td>0</td>\n",
       "      <td>9</td>\n",
       "      <td>No</td>\n",
       "      <td>No</td>\n",
       "    </tr>\n",
       "    <tr>\n",
       "      <th>68098</th>\n",
       "      <td>Caucasian</td>\n",
       "      <td>Male</td>\n",
       "      <td>[70-80)</td>\n",
       "      <td>1.0</td>\n",
       "      <td>1.0</td>\n",
       "      <td>7.0</td>\n",
       "      <td>1</td>\n",
       "      <td>37</td>\n",
       "      <td>0</td>\n",
       "      <td>3</td>\n",
       "      <td>0</td>\n",
       "      <td>0</td>\n",
       "      <td>1</td>\n",
       "      <td>9</td>\n",
       "      <td>No</td>\n",
       "      <td>No</td>\n",
       "    </tr>\n",
       "    <tr>\n",
       "      <th>69057</th>\n",
       "      <td>Caucasian</td>\n",
       "      <td>Male</td>\n",
       "      <td>[60-70)</td>\n",
       "      <td>1.0</td>\n",
       "      <td>1.0</td>\n",
       "      <td>7.0</td>\n",
       "      <td>1</td>\n",
       "      <td>1</td>\n",
       "      <td>0</td>\n",
       "      <td>5</td>\n",
       "      <td>0</td>\n",
       "      <td>0</td>\n",
       "      <td>0</td>\n",
       "      <td>6</td>\n",
       "      <td>No</td>\n",
       "      <td>No</td>\n",
       "    </tr>\n",
       "    <tr>\n",
       "      <th>69307</th>\n",
       "      <td>Caucasian</td>\n",
       "      <td>Male</td>\n",
       "      <td>[80-90)</td>\n",
       "      <td>1.0</td>\n",
       "      <td>1.0</td>\n",
       "      <td>7.0</td>\n",
       "      <td>3</td>\n",
       "      <td>34</td>\n",
       "      <td>0</td>\n",
       "      <td>9</td>\n",
       "      <td>0</td>\n",
       "      <td>0</td>\n",
       "      <td>1</td>\n",
       "      <td>9</td>\n",
       "      <td>No</td>\n",
       "      <td>No</td>\n",
       "    </tr>\n",
       "    <tr>\n",
       "      <th>69553</th>\n",
       "      <td>Caucasian</td>\n",
       "      <td>Female</td>\n",
       "      <td>[60-70)</td>\n",
       "      <td>1.0</td>\n",
       "      <td>1.0</td>\n",
       "      <td>7.0</td>\n",
       "      <td>2</td>\n",
       "      <td>26</td>\n",
       "      <td>0</td>\n",
       "      <td>16</td>\n",
       "      <td>0</td>\n",
       "      <td>0</td>\n",
       "      <td>0</td>\n",
       "      <td>9</td>\n",
       "      <td>No</td>\n",
       "      <td>No</td>\n",
       "    </tr>\n",
       "    <tr>\n",
       "      <th>70178</th>\n",
       "      <td>Caucasian</td>\n",
       "      <td>Female</td>\n",
       "      <td>[80-90)</td>\n",
       "      <td>1.0</td>\n",
       "      <td>1.0</td>\n",
       "      <td>7.0</td>\n",
       "      <td>1</td>\n",
       "      <td>49</td>\n",
       "      <td>0</td>\n",
       "      <td>12</td>\n",
       "      <td>0</td>\n",
       "      <td>0</td>\n",
       "      <td>0</td>\n",
       "      <td>9</td>\n",
       "      <td>No</td>\n",
       "      <td>No</td>\n",
       "    </tr>\n",
       "  </tbody>\n",
       "</table>\n",
       "</div>"
      ],
      "text/plain": [
       "                  race  gender      age  admission_type_id  \\\n",
       "4722   AfricanAmerican  Female  [10-20)                1.0   \n",
       "16811        Caucasian  Female  [60-70)                1.0   \n",
       "17298        Caucasian  Female  [20-30)                3.0   \n",
       "19767        Caucasian    Male  [80-90)                1.0   \n",
       "20513        Caucasian    Male  [60-70)                1.0   \n",
       "23932  AfricanAmerican  Female  [50-60)                1.0   \n",
       "24690        Caucasian    Male  [70-80)                1.0   \n",
       "29525        Caucasian    Male  [40-50)                1.0   \n",
       "34892  AfricanAmerican  Female  [50-60)                1.0   \n",
       "41130        Caucasian  Female  [50-60)                1.0   \n",
       "44590        Caucasian    Male  [70-80)                1.0   \n",
       "56598        Caucasian    Male  [70-80)                1.0   \n",
       "56744  AfricanAmerican    Male  [70-80)                1.0   \n",
       "59066        Caucasian    Male  [70-80)                1.0   \n",
       "61728  AfricanAmerican    Male  [40-50)                1.0   \n",
       "62044        Caucasian    Male  [70-80)                1.0   \n",
       "62366  AfricanAmerican  Female  [50-60)                2.0   \n",
       "62492        Caucasian  Female  [50-60)                1.0   \n",
       "63936        Caucasian    Male  [70-80)                1.0   \n",
       "66566        Caucasian  Female  [40-50)                1.0   \n",
       "66963        Caucasian    Male  [60-70)                3.0   \n",
       "67380        Caucasian    Male  [50-60)                1.0   \n",
       "67578        Caucasian  Female  [80-90)                1.0   \n",
       "68098        Caucasian    Male  [70-80)                1.0   \n",
       "69057        Caucasian    Male  [60-70)                1.0   \n",
       "69307        Caucasian    Male  [80-90)                1.0   \n",
       "69553        Caucasian  Female  [60-70)                1.0   \n",
       "70178        Caucasian  Female  [80-90)                1.0   \n",
       "\n",
       "       discharge_disposition_id  admission_source_id  time_in_hospital  \\\n",
       "4722                        1.0                  7.0                 3   \n",
       "16811                       1.0                  7.0                 3   \n",
       "17298                       1.0                  1.0                 3   \n",
       "19767                       3.0                  7.0                 4   \n",
       "20513                       1.0                  7.0                 2   \n",
       "23932                       1.0                  7.0                 2   \n",
       "24690                       1.0                  7.0                 3   \n",
       "29525                       1.0                  7.0                 1   \n",
       "34892                       1.0                  7.0                 1   \n",
       "41130                       1.0                  7.0                 1   \n",
       "44590                       1.0                  7.0                 1   \n",
       "56598                       1.0                  7.0                 2   \n",
       "56744                       1.0                  7.0                 4   \n",
       "59066                       1.0                  7.0                 1   \n",
       "61728                       1.0                  7.0                 1   \n",
       "62044                       6.0                  7.0                 2   \n",
       "62366                       1.0                  1.0                 4   \n",
       "62492                       1.0                  7.0                 3   \n",
       "63936                       7.0                  7.0                 1   \n",
       "66566                       1.0                  7.0                 1   \n",
       "66963                       1.0                  1.0                 1   \n",
       "67380                       1.0                  7.0                 2   \n",
       "67578                       1.0                  7.0                 3   \n",
       "68098                       1.0                  7.0                 1   \n",
       "69057                       1.0                  7.0                 1   \n",
       "69307                       1.0                  7.0                 3   \n",
       "69553                       1.0                  7.0                 2   \n",
       "70178                       1.0                  7.0                 1   \n",
       "\n",
       "       num_lab_procedures  num_procedures  num_medications  number_outpatient  \\\n",
       "4722                   51               0                3                  0   \n",
       "16811                  39               0               11                  0   \n",
       "17298                  22               1               15                  0   \n",
       "19767                  22               0               12                  0   \n",
       "20513                  42               3               15                  0   \n",
       "23932                  34               0                8                  0   \n",
       "24690                  59               0                8                  0   \n",
       "29525                  35               5               13                  0   \n",
       "34892                  46               0               10                  0   \n",
       "41130                  41               0                8                  0   \n",
       "44590                  32               0                4                  0   \n",
       "56598                  59               0                9                  0   \n",
       "56744                  45               0               15                  0   \n",
       "59066                  40               0                7                  0   \n",
       "61728                  41               0                9                  0   \n",
       "62044                   1               0               10                  0   \n",
       "62366                  45               0               11                  0   \n",
       "62492                  40               0               16                  0   \n",
       "63936                  45               2                3                  0   \n",
       "66566                   2               0                5                  0   \n",
       "66963                  31               6                5                  0   \n",
       "67380                  43               0                8                  0   \n",
       "67578                  56               0               10                  0   \n",
       "68098                  37               0                3                  0   \n",
       "69057                   1               0                5                  0   \n",
       "69307                  34               0                9                  0   \n",
       "69553                  26               0               16                  0   \n",
       "70178                  49               0               12                  0   \n",
       "\n",
       "       number_emergency  number_inpatient  number_diagnoses change diabatic  \n",
       "4722                  0                 0                 1     No      Yes  \n",
       "16811                 0                 0                 5     No      Yes  \n",
       "17298                 0                 0                 7     No       No  \n",
       "19767                 0                 0                 9     Ch      Yes  \n",
       "20513                 0                 0                 6     No      Yes  \n",
       "23932                 0                 0                 4     No      Yes  \n",
       "24690                 0                 0                 7     No      Yes  \n",
       "29525                 0                 0                 8     Ch      Yes  \n",
       "34892                 0                 0                 6     No      Yes  \n",
       "41130                 0                 0                 5     Ch      Yes  \n",
       "44590                 0                 0                 3     No      Yes  \n",
       "56598                 0                 0                 9     No       No  \n",
       "56744                 0                 0                 9     Ch      Yes  \n",
       "59066                 0                 0                 4     No      Yes  \n",
       "61728                 0                 0                 6     Ch      Yes  \n",
       "62044                 0                 0                 9     No      Yes  \n",
       "62366                 0                 0                 9     No       No  \n",
       "62492                 0                 0                 9     No       No  \n",
       "63936                 0                 0                 9     No       No  \n",
       "66566                 0                 0                 9     No       No  \n",
       "66963                 0                 0                 5     No       No  \n",
       "67380                 0                 0                 6     No       No  \n",
       "67578                 0                 0                 9     No       No  \n",
       "68098                 0                 1                 9     No       No  \n",
       "69057                 0                 0                 6     No       No  \n",
       "69307                 0                 1                 9     No       No  \n",
       "69553                 0                 0                 9     No       No  \n",
       "70178                 0                 0                 9     No       No  "
      ]
     },
     "execution_count": 33,
     "metadata": {},
     "output_type": "execute_result"
    }
   ],
   "source": [
    "# Are there any duplicates ?\n",
    "dups = df.duplicated()\n",
    "print('Number of duplicate rows = %d' % (dups.sum()))\n",
    "df[dups]"
   ]
  },
  {
   "cell_type": "markdown",
   "metadata": {},
   "source": [
    "## Checking for Outliers"
   ]
  },
  {
   "cell_type": "code",
   "execution_count": 34,
   "metadata": {
    "ExecuteTime": {
     "end_time": "2022-02-04T10:30:50.027274Z",
     "start_time": "2022-02-04T10:30:49.573876Z"
    }
   },
   "outputs": [
    {
     "data": {
      "text/plain": [
       "<AxesSubplot:>"
      ]
     },
     "execution_count": 34,
     "metadata": {},
     "output_type": "execute_result"
    },
    {
     "data": {
      "image/png": "[encoded data removed]",
      "text/plain": [
       "<Figure size 1080x1080 with 1 Axes>"
      ]
     },
     "metadata": {
      "needs_background": "light"
     },
     "output_type": "display_data"
    }
   ],
   "source": [
    "# construct box plot for continuous variables\n",
    "plt.figure(figsize=(15,15))\n",
    "df[['time_in_hospital', 'num_lab_procedures', 'num_procedures', 'num_medications', 'number_outpatient', 'number_emergency', 'number_inpatient']].boxplot(vert=0)"
   ]
  },
  {
   "cell_type": "code",
   "execution_count": 35,
   "metadata": {
    "ExecuteTime": {
     "end_time": "2022-02-04T10:30:50.050139Z",
     "start_time": "2022-02-04T10:30:50.027274Z"
    }
   },
   "outputs": [],
   "source": [
    "def replace_outlier(col):\n",
    "    Q1, Q3 = np.quantile(col, [.25, .75])\n",
    "    IQR = Q3 - Q1\n",
    "    LL = Q1 - 1.5*IQR\n",
    "    UL = Q3 + 1.5*IQR\n",
    "    return LL, UL"
   ]
  },
  {
   "cell_type": "code",
   "execution_count": 36,
   "metadata": {
    "ExecuteTime": {
     "end_time": "2022-02-04T10:30:50.066101Z",
     "start_time": "2022-02-04T10:30:50.050139Z"
    }
   },
   "outputs": [],
   "source": [
    "df_num = df[['time_in_hospital', 'num_lab_procedures', 'num_procedures', 'num_medications', 'number_outpatient', 'number_emergency', 'number_inpatient']]"
   ]
  },
  {
   "cell_type": "code",
   "execution_count": 37,
   "metadata": {
    "ExecuteTime": {
     "end_time": "2022-02-04T10:30:50.098606Z",
     "start_time": "2022-02-04T10:30:50.066101Z"
    }
   },
   "outputs": [],
   "source": [
    "for i in df_num.columns:\n",
    "    LL, UL = replace_outlier(df_num[i])\n",
    "    df_num[i] = np.where(df_num[i]> UL, UL, df_num[i])\n",
    "    df_num[i] = np.where(df_num[i]< LL, LL, df_num[i])"
   ]
  },
  {
   "cell_type": "code",
   "execution_count": 38,
   "metadata": {
    "ExecuteTime": {
     "end_time": "2022-02-04T10:30:50.411523Z",
     "start_time": "2022-02-04T10:30:50.098606Z"
    }
   },
   "outputs": [
    {
     "data": {
      "text/plain": [
       "<AxesSubplot:>"
      ]
     },
     "execution_count": 38,
     "metadata": {},
     "output_type": "execute_result"
    },
    {
     "data": {
      "image/png": "[encoded data removed]",
      "text/plain": [
       "<Figure size 1080x1080 with 1 Axes>"
      ]
     },
     "metadata": {
      "needs_background": "light"
     },
     "output_type": "display_data"
    }
   ],
   "source": [
    "plt.figure(figsize=(15,15))\n",
    "df_num.boxplot(vert=0)"
   ]
  },
  {
   "cell_type": "markdown",
   "metadata": {},
   "source": [
    "## Checking pairwise distribution of the continuous variables"
   ]
  },
  {
   "cell_type": "code",
   "execution_count": 39,
   "metadata": {
    "ExecuteTime": {
     "end_time": "2022-02-04T10:31:12.185460Z",
     "start_time": "2022-02-04T10:30:50.411523Z"
    }
   },
   "outputs": [
    {
     "data": {
      "text/plain": [
       "<seaborn.axisgrid.PairGrid at 0x1c6cb8f3190>"
      ]
     },
     "execution_count": 39,
     "metadata": {},
     "output_type": "execute_result"
    },
    {
     "data": {
      "image/png": "[encoded data removed]",
      "text/plain": [
       "<Figure size 1260x1260 with 56 Axes>"
      ]
     },
     "metadata": {
      "needs_background": "light"
     },
     "output_type": "display_data"
    }
   ],
   "source": [
    "sns.pairplot(df_num)"
   ]
  },
  {
   "cell_type": "markdown",
   "metadata": {},
   "source": [
    "## Checking for Correlations"
   ]
  },
  {
   "cell_type": "code",
   "execution_count": 40,
   "metadata": {
    "ExecuteTime": {
     "end_time": "2022-02-04T10:31:12.849954Z",
     "start_time": "2022-02-04T10:31:12.188682Z"
    }
   },
   "outputs": [
    {
     "data": {
      "text/plain": [
       "<AxesSubplot:>"
      ]
     },
     "execution_count": 40,
     "metadata": {},
     "output_type": "execute_result"
    },
    {
     "data": {
      "image/png": "[encoded data removed]",
      "text/plain": [
       "<Figure size 720x576 with 2 Axes>"
      ]
     },
     "metadata": {
      "needs_background": "light"
     },
     "output_type": "display_data"
    }
   ],
   "source": [
    "# construct heatmap with only continuous variables\n",
    "plt.figure(figsize=(10,8))\n",
    "sns.set(font_scale=1.2)\n",
    "sns.heatmap(df_num.corr(), annot=True)"
   ]
  },
  {
   "cell_type": "markdown",
   "metadata": {},
   "source": [
    "There are mostly positive correlations between variables, and very few negative correlations.  \n",
    "Overall the magnitude of correlations between the variables are very less."
   ]
  },
  {
   "cell_type": "markdown",
   "metadata": {},
   "source": [
    "## Converting all objects to categorical codes"
   ]
  },
  {
   "cell_type": "code",
   "execution_count": 41,
   "metadata": {
    "ExecuteTime": {
     "end_time": "2022-02-04T10:31:12.995841Z",
     "start_time": "2022-02-04T10:31:12.852086Z"
    }
   },
   "outputs": [
    {
     "name": "stdout",
     "output_type": "stream",
     "text": [
      "\n",
      "\n",
      "feature: race\n",
      "['Caucasian', 'AfricanAmerican', 'Other', 'Asian', 'Hispanic']\n",
      "Categories (5, object): ['AfricanAmerican', 'Asian', 'Caucasian', 'Hispanic', 'Other']\n",
      "[2 0 4 1 3]\n",
      "\n",
      "\n",
      "feature: gender\n",
      "['Female', 'Male', 'Unknown/Invalid']\n",
      "Categories (3, object): ['Female', 'Male', 'Unknown/Invalid']\n",
      "[0 1 2]\n",
      "\n",
      "\n",
      "feature: age\n",
      "['[0-10)', '[10-20)', '[20-30)', '[30-40)', '[40-50)', '[50-60)', '[60-70)', '[70-80)', '[80-90)', '[90-100)']\n",
      "Categories (10, object): ['[0-10)', '[10-20)', '[20-30)', '[30-40)', ..., '[60-70)', '[70-80)', '[80-90)', '[90-100)']\n",
      "[0 1 2 3 4 5 6 7 8 9]\n",
      "\n",
      "\n",
      "feature: change\n",
      "['No', 'Ch']\n",
      "Categories (2, object): ['Ch', 'No']\n",
      "[1 0]\n",
      "\n",
      "\n",
      "feature: diabatic\n",
      "['No', 'Yes']\n",
      "Categories (2, object): ['No', 'Yes']\n",
      "[0 1]\n"
     ]
    }
   ],
   "source": [
    "for feature in df.columns: \n",
    "    if df[feature].dtype == 'object': \n",
    "        print('\\n')\n",
    "        print('feature:',feature)\n",
    "        print(pd.Categorical(df[feature].unique()))\n",
    "        print(pd.Categorical(df[feature].unique()).codes)\n",
    "        df[feature] = pd.Categorical(df[feature]).codes"
   ]
  },
  {
   "cell_type": "code",
   "execution_count": 42,
   "metadata": {
    "ExecuteTime": {
     "end_time": "2022-02-04T10:31:13.028762Z",
     "start_time": "2022-02-04T10:31:12.995841Z"
    }
   },
   "outputs": [
    {
     "name": "stdout",
     "output_type": "stream",
     "text": [
      "<class 'pandas.core.frame.DataFrame'>\n",
      "Int64Index: 51253 entries, 0 to 70179\n",
      "Data columns (total 16 columns):\n",
      " #   Column                    Non-Null Count  Dtype  \n",
      "---  ------                    --------------  -----  \n",
      " 0   race                      51253 non-null  int8   \n",
      " 1   gender                    51253 non-null  int8   \n",
      " 2   age                       51253 non-null  int8   \n",
      " 3   admission_type_id         51253 non-null  float64\n",
      " 4   discharge_disposition_id  51253 non-null  float64\n",
      " 5   admission_source_id       51253 non-null  float64\n",
      " 6   time_in_hospital          51253 non-null  int64  \n",
      " 7   num_lab_procedures        51253 non-null  int64  \n",
      " 8   num_procedures            51253 non-null  int64  \n",
      " 9   num_medications           51253 non-null  int64  \n",
      " 10  number_outpatient         51253 non-null  int64  \n",
      " 11  number_emergency          51253 non-null  int64  \n",
      " 12  number_inpatient          51253 non-null  int64  \n",
      " 13  number_diagnoses          51253 non-null  int64  \n",
      " 14  change                    51253 non-null  int8   \n",
      " 15  diabatic                  51253 non-null  int8   \n",
      "dtypes: float64(3), int64(8), int8(5)\n",
      "memory usage: 4.9 MB\n"
     ]
    }
   ],
   "source": [
    "df.info()"
   ]
  },
  {
   "cell_type": "code",
   "execution_count": 43,
   "metadata": {
    "ExecuteTime": {
     "end_time": "2022-02-04T10:31:13.064515Z",
     "start_time": "2022-02-04T10:31:13.028762Z"
    }
   },
   "outputs": [
    {
     "data": {
      "text/html": [
       "<div>\n",
       "<style scoped>\n",
       "    .dataframe tbody tr th:only-of-type {\n",
       "        vertical-align: middle;\n",
       "    }\n",
       "\n",
       "    .dataframe tbody tr th {\n",
       "        vertical-align: top;\n",
       "    }\n",
       "\n",
       "    .dataframe thead th {\n",
       "        text-align: right;\n",
       "    }\n",
       "</style>\n",
       "<table border=\"1\" class=\"dataframe\">\n",
       "  <thead>\n",
       "    <tr style=\"text-align: right;\">\n",
       "      <th></th>\n",
       "      <th>race</th>\n",
       "      <th>gender</th>\n",
       "      <th>age</th>\n",
       "      <th>admission_type_id</th>\n",
       "      <th>discharge_disposition_id</th>\n",
       "      <th>admission_source_id</th>\n",
       "      <th>time_in_hospital</th>\n",
       "      <th>num_lab_procedures</th>\n",
       "      <th>num_procedures</th>\n",
       "      <th>num_medications</th>\n",
       "      <th>number_outpatient</th>\n",
       "      <th>number_emergency</th>\n",
       "      <th>number_inpatient</th>\n",
       "      <th>number_diagnoses</th>\n",
       "      <th>change</th>\n",
       "      <th>diabatic</th>\n",
       "    </tr>\n",
       "  </thead>\n",
       "  <tbody>\n",
       "    <tr>\n",
       "      <th>0</th>\n",
       "      <td>2</td>\n",
       "      <td>0</td>\n",
       "      <td>0</td>\n",
       "      <td>1.0</td>\n",
       "      <td>1.0</td>\n",
       "      <td>1.0</td>\n",
       "      <td>1</td>\n",
       "      <td>41</td>\n",
       "      <td>0</td>\n",
       "      <td>1</td>\n",
       "      <td>0</td>\n",
       "      <td>0</td>\n",
       "      <td>0</td>\n",
       "      <td>1</td>\n",
       "      <td>1</td>\n",
       "      <td>0</td>\n",
       "    </tr>\n",
       "    <tr>\n",
       "      <th>1</th>\n",
       "      <td>2</td>\n",
       "      <td>0</td>\n",
       "      <td>1</td>\n",
       "      <td>1.0</td>\n",
       "      <td>1.0</td>\n",
       "      <td>7.0</td>\n",
       "      <td>3</td>\n",
       "      <td>59</td>\n",
       "      <td>0</td>\n",
       "      <td>18</td>\n",
       "      <td>0</td>\n",
       "      <td>0</td>\n",
       "      <td>0</td>\n",
       "      <td>9</td>\n",
       "      <td>0</td>\n",
       "      <td>1</td>\n",
       "    </tr>\n",
       "    <tr>\n",
       "      <th>2</th>\n",
       "      <td>0</td>\n",
       "      <td>0</td>\n",
       "      <td>2</td>\n",
       "      <td>1.0</td>\n",
       "      <td>1.0</td>\n",
       "      <td>7.0</td>\n",
       "      <td>2</td>\n",
       "      <td>11</td>\n",
       "      <td>5</td>\n",
       "      <td>13</td>\n",
       "      <td>2</td>\n",
       "      <td>0</td>\n",
       "      <td>1</td>\n",
       "      <td>6</td>\n",
       "      <td>1</td>\n",
       "      <td>1</td>\n",
       "    </tr>\n",
       "    <tr>\n",
       "      <th>3</th>\n",
       "      <td>2</td>\n",
       "      <td>1</td>\n",
       "      <td>3</td>\n",
       "      <td>1.0</td>\n",
       "      <td>1.0</td>\n",
       "      <td>7.0</td>\n",
       "      <td>2</td>\n",
       "      <td>44</td>\n",
       "      <td>1</td>\n",
       "      <td>16</td>\n",
       "      <td>0</td>\n",
       "      <td>0</td>\n",
       "      <td>0</td>\n",
       "      <td>7</td>\n",
       "      <td>0</td>\n",
       "      <td>1</td>\n",
       "    </tr>\n",
       "    <tr>\n",
       "      <th>4</th>\n",
       "      <td>2</td>\n",
       "      <td>1</td>\n",
       "      <td>4</td>\n",
       "      <td>1.0</td>\n",
       "      <td>1.0</td>\n",
       "      <td>7.0</td>\n",
       "      <td>1</td>\n",
       "      <td>51</td>\n",
       "      <td>0</td>\n",
       "      <td>8</td>\n",
       "      <td>0</td>\n",
       "      <td>0</td>\n",
       "      <td>0</td>\n",
       "      <td>5</td>\n",
       "      <td>0</td>\n",
       "      <td>1</td>\n",
       "    </tr>\n",
       "  </tbody>\n",
       "</table>\n",
       "</div>"
      ],
      "text/plain": [
       "   race  gender  age  admission_type_id  discharge_disposition_id  \\\n",
       "0     2       0    0                1.0                       1.0   \n",
       "1     2       0    1                1.0                       1.0   \n",
       "2     0       0    2                1.0                       1.0   \n",
       "3     2       1    3                1.0                       1.0   \n",
       "4     2       1    4                1.0                       1.0   \n",
       "\n",
       "   admission_source_id  time_in_hospital  num_lab_procedures  num_procedures  \\\n",
       "0                  1.0                 1                  41               0   \n",
       "1                  7.0                 3                  59               0   \n",
       "2                  7.0                 2                  11               5   \n",
       "3                  7.0                 2                  44               1   \n",
       "4                  7.0                 1                  51               0   \n",
       "\n",
       "   num_medications  number_outpatient  number_emergency  number_inpatient  \\\n",
       "0                1                  0                 0                 0   \n",
       "1               18                  0                 0                 0   \n",
       "2               13                  2                 0                 1   \n",
       "3               16                  0                 0                 0   \n",
       "4                8                  0                 0                 0   \n",
       "\n",
       "   number_diagnoses  change  diabatic  \n",
       "0                 1       1         0  \n",
       "1                 9       0         1  \n",
       "2                 6       1         1  \n",
       "3                 7       0         1  \n",
       "4                 5       0         1  "
      ]
     },
     "execution_count": 43,
     "metadata": {},
     "output_type": "execute_result"
    }
   ],
   "source": [
    "df.head()"
   ]
  },
  {
   "cell_type": "markdown",
   "metadata": {},
   "source": [
    "## Proportion of 1s and 0s"
   ]
  },
  {
   "cell_type": "code",
   "execution_count": 44,
   "metadata": {
    "ExecuteTime": {
     "end_time": "2022-02-04T10:31:13.084177Z",
     "start_time": "2022-02-04T10:31:13.068035Z"
    }
   },
   "outputs": [
    {
     "data": {
      "text/plain": [
       "1    0.649796\n",
       "0    0.350204\n",
       "Name: diabatic, dtype: float64"
      ]
     },
     "execution_count": 44,
     "metadata": {},
     "output_type": "execute_result"
    }
   ],
   "source": [
    "df.diabatic.value_counts(normalize=True)"
   ]
  },
  {
   "cell_type": "markdown",
   "metadata": {},
   "source": [
    "There is no issue of class imbalance here as we have reasonable proportions in both the classes"
   ]
  },
  {
   "cell_type": "markdown",
   "metadata": {},
   "source": [
    "## Extracting the target column into separate vectors for training set and test set"
   ]
  },
  {
   "cell_type": "code",
   "execution_count": 45,
   "metadata": {
    "ExecuteTime": {
     "end_time": "2022-02-04T10:31:13.132656Z",
     "start_time": "2022-02-04T10:31:13.084177Z"
    }
   },
   "outputs": [
    {
     "data": {
      "text/html": [
       "<div>\n",
       "<style scoped>\n",
       "    .dataframe tbody tr th:only-of-type {\n",
       "        vertical-align: middle;\n",
       "    }\n",
       "\n",
       "    .dataframe tbody tr th {\n",
       "        vertical-align: top;\n",
       "    }\n",
       "\n",
       "    .dataframe thead th {\n",
       "        text-align: right;\n",
       "    }\n",
       "</style>\n",
       "<table border=\"1\" class=\"dataframe\">\n",
       "  <thead>\n",
       "    <tr style=\"text-align: right;\">\n",
       "      <th></th>\n",
       "      <th>race</th>\n",
       "      <th>gender</th>\n",
       "      <th>age</th>\n",
       "      <th>admission_type_id</th>\n",
       "      <th>discharge_disposition_id</th>\n",
       "      <th>admission_source_id</th>\n",
       "      <th>time_in_hospital</th>\n",
       "      <th>num_lab_procedures</th>\n",
       "      <th>num_procedures</th>\n",
       "      <th>num_medications</th>\n",
       "      <th>number_outpatient</th>\n",
       "      <th>number_emergency</th>\n",
       "      <th>number_inpatient</th>\n",
       "      <th>number_diagnoses</th>\n",
       "      <th>change</th>\n",
       "    </tr>\n",
       "  </thead>\n",
       "  <tbody>\n",
       "    <tr>\n",
       "      <th>0</th>\n",
       "      <td>2</td>\n",
       "      <td>0</td>\n",
       "      <td>0</td>\n",
       "      <td>1.0</td>\n",
       "      <td>1.0</td>\n",
       "      <td>1.0</td>\n",
       "      <td>1</td>\n",
       "      <td>41</td>\n",
       "      <td>0</td>\n",
       "      <td>1</td>\n",
       "      <td>0</td>\n",
       "      <td>0</td>\n",
       "      <td>0</td>\n",
       "      <td>1</td>\n",
       "      <td>1</td>\n",
       "    </tr>\n",
       "    <tr>\n",
       "      <th>1</th>\n",
       "      <td>2</td>\n",
       "      <td>0</td>\n",
       "      <td>1</td>\n",
       "      <td>1.0</td>\n",
       "      <td>1.0</td>\n",
       "      <td>7.0</td>\n",
       "      <td>3</td>\n",
       "      <td>59</td>\n",
       "      <td>0</td>\n",
       "      <td>18</td>\n",
       "      <td>0</td>\n",
       "      <td>0</td>\n",
       "      <td>0</td>\n",
       "      <td>9</td>\n",
       "      <td>0</td>\n",
       "    </tr>\n",
       "    <tr>\n",
       "      <th>2</th>\n",
       "      <td>0</td>\n",
       "      <td>0</td>\n",
       "      <td>2</td>\n",
       "      <td>1.0</td>\n",
       "      <td>1.0</td>\n",
       "      <td>7.0</td>\n",
       "      <td>2</td>\n",
       "      <td>11</td>\n",
       "      <td>5</td>\n",
       "      <td>13</td>\n",
       "      <td>2</td>\n",
       "      <td>0</td>\n",
       "      <td>1</td>\n",
       "      <td>6</td>\n",
       "      <td>1</td>\n",
       "    </tr>\n",
       "    <tr>\n",
       "      <th>3</th>\n",
       "      <td>2</td>\n",
       "      <td>1</td>\n",
       "      <td>3</td>\n",
       "      <td>1.0</td>\n",
       "      <td>1.0</td>\n",
       "      <td>7.0</td>\n",
       "      <td>2</td>\n",
       "      <td>44</td>\n",
       "      <td>1</td>\n",
       "      <td>16</td>\n",
       "      <td>0</td>\n",
       "      <td>0</td>\n",
       "      <td>0</td>\n",
       "      <td>7</td>\n",
       "      <td>0</td>\n",
       "    </tr>\n",
       "    <tr>\n",
       "      <th>4</th>\n",
       "      <td>2</td>\n",
       "      <td>1</td>\n",
       "      <td>4</td>\n",
       "      <td>1.0</td>\n",
       "      <td>1.0</td>\n",
       "      <td>7.0</td>\n",
       "      <td>1</td>\n",
       "      <td>51</td>\n",
       "      <td>0</td>\n",
       "      <td>8</td>\n",
       "      <td>0</td>\n",
       "      <td>0</td>\n",
       "      <td>0</td>\n",
       "      <td>5</td>\n",
       "      <td>0</td>\n",
       "    </tr>\n",
       "  </tbody>\n",
       "</table>\n",
       "</div>"
      ],
      "text/plain": [
       "   race  gender  age  admission_type_id  discharge_disposition_id  \\\n",
       "0     2       0    0                1.0                       1.0   \n",
       "1     2       0    1                1.0                       1.0   \n",
       "2     0       0    2                1.0                       1.0   \n",
       "3     2       1    3                1.0                       1.0   \n",
       "4     2       1    4                1.0                       1.0   \n",
       "\n",
       "   admission_source_id  time_in_hospital  num_lab_procedures  num_procedures  \\\n",
       "0                  1.0                 1                  41               0   \n",
       "1                  7.0                 3                  59               0   \n",
       "2                  7.0                 2                  11               5   \n",
       "3                  7.0                 2                  44               1   \n",
       "4                  7.0                 1                  51               0   \n",
       "\n",
       "   num_medications  number_outpatient  number_emergency  number_inpatient  \\\n",
       "0                1                  0                 0                 0   \n",
       "1               18                  0                 0                 0   \n",
       "2               13                  2                 0                 1   \n",
       "3               16                  0                 0                 0   \n",
       "4                8                  0                 0                 0   \n",
       "\n",
       "   number_diagnoses  change  \n",
       "0                 1       1  \n",
       "1                 9       0  \n",
       "2                 6       1  \n",
       "3                 7       0  \n",
       "4                 5       0  "
      ]
     },
     "execution_count": 45,
     "metadata": {},
     "output_type": "execute_result"
    }
   ],
   "source": [
    "X = df.drop(\"diabatic\", axis=1)\n",
    "\n",
    "y = df[\"diabatic\"]\n",
    "\n",
    "X.head()"
   ]
  },
  {
   "cell_type": "markdown",
   "metadata": {},
   "source": [
    "## Splitting data into training and test set"
   ]
  },
  {
   "cell_type": "code",
   "execution_count": 46,
   "metadata": {
    "ExecuteTime": {
     "end_time": "2022-02-04T10:31:13.190588Z",
     "start_time": "2022-02-04T10:31:13.132656Z"
    }
   },
   "outputs": [],
   "source": [
    "from sklearn.model_selection import train_test_split\n",
    "\n",
    "X_train, X_test, train_labels, test_labels = train_test_split(X, y, test_size=.30, random_state=1, stratify = y)"
   ]
  },
  {
   "cell_type": "markdown",
   "metadata": {},
   "source": [
    "## Checking the dimensions of the training and test data"
   ]
  },
  {
   "cell_type": "code",
   "execution_count": 47,
   "metadata": {
    "ExecuteTime": {
     "end_time": "2022-02-04T10:31:13.212472Z",
     "start_time": "2022-02-04T10:31:13.190588Z"
    }
   },
   "outputs": [
    {
     "name": "stdout",
     "output_type": "stream",
     "text": [
      "X_train (35877, 15)\n",
      "X_test (15376, 15)\n",
      "train_labels (35877,)\n",
      "test_labels (15376,)\n"
     ]
    }
   ],
   "source": [
    "print('X_train',X_train.shape)\n",
    "print('X_test',X_test.shape)\n",
    "print('train_labels',train_labels.shape)\n",
    "print('test_labels',test_labels.shape)"
   ]
  },
  {
   "cell_type": "markdown",
   "metadata": {},
   "source": [
    "# Building a Decision Tree Classifier"
   ]
  },
  {
   "cell_type": "code",
   "execution_count": 48,
   "metadata": {
    "ExecuteTime": {
     "end_time": "2022-02-04T10:31:13.231295Z",
     "start_time": "2022-02-04T10:31:13.212472Z"
    }
   },
   "outputs": [],
   "source": [
    "param_grid = {\n",
    "    'criterion': ['gini'],\n",
    "    'max_depth': [10,20,30,50],# 3,5,7,9\n",
    "    'min_samples_leaf': [50,100,150], # 1-3% 50-150\n",
    "    'min_samples_split': [450,150,300] # 150 - 450\n",
    "}\n",
    "\n",
    "dtcl = DecisionTreeClassifier()\n",
    "\n",
    "grid_search = GridSearchCV(estimator = dtcl, param_grid = param_grid, cv = 10)"
   ]
  },
  {
   "cell_type": "code",
   "execution_count": 49,
   "metadata": {
    "ExecuteTime": {
     "end_time": "2022-02-04T10:32:03.984104Z",
     "start_time": "2022-02-04T10:31:13.231295Z"
    }
   },
   "outputs": [
    {
     "name": "stdout",
     "output_type": "stream",
     "text": [
      "{'criterion': 'gini', 'max_depth': 10, 'min_samples_leaf': 150, 'min_samples_split': 150}\n"
     ]
    },
    {
     "data": {
      "text/plain": [
       "DecisionTreeClassifier(max_depth=10, min_samples_leaf=150,\n",
       "                       min_samples_split=150)"
      ]
     },
     "execution_count": 49,
     "metadata": {},
     "output_type": "execute_result"
    }
   ],
   "source": [
    "grid_search.fit(X_train, train_labels)\n",
    "print(grid_search.best_params_)\n",
    "best_grid = grid_search.best_estimator_\n",
    "best_grid\n",
    "#{'criterion': 'gini', 'max_depth': 10, 'min_samples_leaf': 50, 'min_samples_split': 450}"
   ]
  },
  {
   "cell_type": "markdown",
   "metadata": {},
   "source": [
    "## Generating Tree"
   ]
  },
  {
   "cell_type": "code",
   "execution_count": 50,
   "metadata": {
    "ExecuteTime": {
     "end_time": "2022-02-04T10:32:04.034143Z",
     "start_time": "2022-02-04T10:32:03.984104Z"
    }
   },
   "outputs": [],
   "source": [
    "train_char_label = ['no', 'yes']\n",
    "tree_regularized = open('tree_regularized.dot','w')\n",
    "dot_data = tree.export_graphviz(best_grid, out_file= tree_regularized , feature_names = list(X_train), class_names = list(train_char_label))\n",
    "\n",
    "tree_regularized.close()\n",
    "dot_data"
   ]
  },
  {
   "cell_type": "code",
   "execution_count": 51,
   "metadata": {
    "ExecuteTime": {
     "end_time": "2022-02-04T10:32:04.050996Z",
     "start_time": "2022-02-04T10:32:04.037668Z"
    }
   },
   "outputs": [],
   "source": [
    "# from sklearn.tree import export_graphviz\n",
    "# from io import StringIO  \n",
    "# from IPython.display import Image  \n",
    "# import pydotplus\n",
    "# import graphviz\n",
    "\n",
    "\n",
    "# dtc_new = DecisionTreeClassifier(criterion = 'entropy', max_depth=5)\n",
    "# dtc_new.fit(X_train, train_labels)\n",
    "\n",
    "# dot_data = StringIO()\n",
    "# export_graphviz(dtc_new, out_file=dot_data, filled  = True, rounded = True, feature_names=X_train.columns)\n",
    "# graph = pydotplus.graph_from_dot_data(dot_data.getvalue())  \n",
    "# graph.write_png('tree.png')\n",
    "# Image(graph.create_png())"
   ]
  },
  {
   "cell_type": "markdown",
   "metadata": {},
   "source": [
    "http://webgraphviz.com/"
   ]
  },
  {
   "cell_type": "markdown",
   "metadata": {},
   "source": [
    "## Variable Importance"
   ]
  },
  {
   "cell_type": "code",
   "execution_count": 52,
   "metadata": {
    "ExecuteTime": {
     "end_time": "2022-02-04T10:32:04.071984Z",
     "start_time": "2022-02-04T10:32:04.055191Z"
    }
   },
   "outputs": [
    {
     "name": "stdout",
     "output_type": "stream",
     "text": [
      "                               Imp\n",
      "change                    0.872788\n",
      "num_medications           0.039682\n",
      "number_diagnoses          0.029912\n",
      "age                       0.013948\n",
      "num_procedures            0.010609\n",
      "num_lab_procedures        0.007787\n",
      "admission_type_id         0.007473\n",
      "admission_source_id       0.006137\n",
      "time_in_hospital          0.004812\n",
      "gender                    0.001944\n",
      "discharge_disposition_id  0.001594\n",
      "race                      0.001439\n",
      "number_outpatient         0.000959\n",
      "number_inpatient          0.000914\n",
      "number_emergency          0.000000\n"
     ]
    }
   ],
   "source": [
    "print (pd.DataFrame(best_grid.feature_importances_, columns = [\"Imp\"], index = X_train.columns).sort_values('Imp',ascending=False))"
   ]
  },
  {
   "cell_type": "markdown",
   "metadata": {},
   "source": [
    "## Predicting on Training and Test dataset"
   ]
  },
  {
   "cell_type": "code",
   "execution_count": 53,
   "metadata": {
    "ExecuteTime": {
     "end_time": "2022-02-04T10:32:04.109074Z",
     "start_time": "2022-02-04T10:32:04.071984Z"
    }
   },
   "outputs": [],
   "source": [
    "ytrain_predict = best_grid.predict(X_train)\n",
    "ytest_predict = best_grid.predict(X_test)"
   ]
  },
  {
   "cell_type": "markdown",
   "metadata": {},
   "source": [
    "## Getting the Predicted Classes and Probs"
   ]
  },
  {
   "cell_type": "code",
   "execution_count": 54,
   "metadata": {
    "ExecuteTime": {
     "end_time": "2022-02-04T10:32:04.140536Z",
     "start_time": "2022-02-04T10:32:04.109074Z"
    }
   },
   "outputs": [
    {
     "data": {
      "text/html": [
       "<div>\n",
       "<style scoped>\n",
       "    .dataframe tbody tr th:only-of-type {\n",
       "        vertical-align: middle;\n",
       "    }\n",
       "\n",
       "    .dataframe tbody tr th {\n",
       "        vertical-align: top;\n",
       "    }\n",
       "\n",
       "    .dataframe thead th {\n",
       "        text-align: right;\n",
       "    }\n",
       "</style>\n",
       "<table border=\"1\" class=\"dataframe\">\n",
       "  <thead>\n",
       "    <tr style=\"text-align: right;\">\n",
       "      <th></th>\n",
       "      <th>0</th>\n",
       "      <th>1</th>\n",
       "    </tr>\n",
       "  </thead>\n",
       "  <tbody>\n",
       "    <tr>\n",
       "      <th>0</th>\n",
       "      <td>0.000000</td>\n",
       "      <td>1.000000</td>\n",
       "    </tr>\n",
       "    <tr>\n",
       "      <th>1</th>\n",
       "      <td>0.780488</td>\n",
       "      <td>0.219512</td>\n",
       "    </tr>\n",
       "    <tr>\n",
       "      <th>2</th>\n",
       "      <td>0.560000</td>\n",
       "      <td>0.440000</td>\n",
       "    </tr>\n",
       "    <tr>\n",
       "      <th>3</th>\n",
       "      <td>0.570175</td>\n",
       "      <td>0.429825</td>\n",
       "    </tr>\n",
       "    <tr>\n",
       "      <th>4</th>\n",
       "      <td>0.210744</td>\n",
       "      <td>0.789256</td>\n",
       "    </tr>\n",
       "  </tbody>\n",
       "</table>\n",
       "</div>"
      ],
      "text/plain": [
       "          0         1\n",
       "0  0.000000  1.000000\n",
       "1  0.780488  0.219512\n",
       "2  0.560000  0.440000\n",
       "3  0.570175  0.429825\n",
       "4  0.210744  0.789256"
      ]
     },
     "execution_count": 54,
     "metadata": {},
     "output_type": "execute_result"
    }
   ],
   "source": [
    "ytest_predict\n",
    "ytest_predict_prob=best_grid.predict_proba(X_test)\n",
    "ytest_predict_prob\n",
    "pd.DataFrame(ytest_predict_prob).head()"
   ]
  },
  {
   "cell_type": "markdown",
   "metadata": {},
   "source": [
    "## Model Evaluation"
   ]
  },
  {
   "cell_type": "markdown",
   "metadata": {},
   "source": [
    "### AUC and ROC for the training data"
   ]
  },
  {
   "cell_type": "code",
   "execution_count": 55,
   "metadata": {
    "ExecuteTime": {
     "end_time": "2022-02-04T10:32:04.492725Z",
     "start_time": "2022-02-04T10:32:04.142801Z"
    }
   },
   "outputs": [
    {
     "name": "stdout",
     "output_type": "stream",
     "text": [
      "AUC: 0.844\n"
     ]
    },
    {
     "data": {
      "text/plain": [
       "[<matplotlib.lines.Line2D at 0x1c6cd143400>]"
      ]
     },
     "execution_count": 55,
     "metadata": {},
     "output_type": "execute_result"
    },
    {
     "data": {
      "image/png": "[encoded data removed]",
      "text/plain": [
       "<Figure size 432x288 with 1 Axes>"
      ]
     },
     "metadata": {},
     "output_type": "display_data"
    }
   ],
   "source": [
    "# predict probabilities\n",
    "probs = best_grid.predict_proba(X_train)\n",
    "# keep probabilities for the positive outcome only\n",
    "probs = probs[:, 1]\n",
    "# calculate AUC\n",
    "cart_train_auc = roc_auc_score(train_labels, probs)\n",
    "print('AUC: %.3f' % cart_train_auc)\n",
    "# calculate roc curve\n",
    "cart_train_fpr, cart_train_tpr, cart_train_thresholds = roc_curve(train_labels, probs)\n",
    "plt.plot([0, 1], [0, 1], linestyle='--')\n",
    "# plot the roc curve for the model\n",
    "plt.plot(cart_train_fpr, cart_train_tpr)"
   ]
  },
  {
   "cell_type": "markdown",
   "metadata": {},
   "source": [
    "### AUC and ROC for the test data"
   ]
  },
  {
   "cell_type": "code",
   "execution_count": 56,
   "metadata": {
    "ExecuteTime": {
     "end_time": "2022-02-04T10:32:04.798954Z",
     "start_time": "2022-02-04T10:32:04.493450Z"
    }
   },
   "outputs": [
    {
     "name": "stdout",
     "output_type": "stream",
     "text": [
      "AUC: 0.831\n"
     ]
    },
    {
     "data": {
      "text/plain": [
       "[<matplotlib.lines.Line2D at 0x1c6cd19b880>]"
      ]
     },
     "execution_count": 56,
     "metadata": {},
     "output_type": "execute_result"
    },
    {
     "data": {
      "image/png": "[encoded data removed]",
      "text/plain": [
       "<Figure size 432x288 with 1 Axes>"
      ]
     },
     "metadata": {},
     "output_type": "display_data"
    }
   ],
   "source": [
    "# predict probabilities\n",
    "probs = best_grid.predict_proba(X_test)\n",
    "# keep probabilities for the positive outcome only\n",
    "probs = probs[:, 1]\n",
    "# calculate AUC\n",
    "cart_test_auc = roc_auc_score(test_labels, probs)\n",
    "print('AUC: %.3f' % cart_test_auc)\n",
    "# calculate roc curve\n",
    "cart_test_fpr, cart_test_tpr, cart_testthresholds = roc_curve(test_labels, probs)\n",
    "plt.plot([0, 1], [0, 1], linestyle='--')\n",
    "# plot the roc curve for the model\n",
    "plt.plot(cart_test_fpr, cart_test_tpr)"
   ]
  },
  {
   "cell_type": "markdown",
   "metadata": {},
   "source": [
    "### Confusion Matrix for the training data"
   ]
  },
  {
   "cell_type": "code",
   "execution_count": 57,
   "metadata": {
    "ExecuteTime": {
     "end_time": "2022-02-04T10:32:04.829137Z",
     "start_time": "2022-02-04T10:32:04.802044Z"
    }
   },
   "outputs": [
    {
     "data": {
      "text/plain": [
       "array([[ 9319,  3245],\n",
       "       [ 5693, 17620]], dtype=int64)"
      ]
     },
     "execution_count": 57,
     "metadata": {},
     "output_type": "execute_result"
    }
   ],
   "source": [
    "confusion_matrix(train_labels, ytrain_predict)"
   ]
  },
  {
   "cell_type": "code",
   "execution_count": 58,
   "metadata": {
    "ExecuteTime": {
     "end_time": "2022-02-04T10:32:04.877065Z",
     "start_time": "2022-02-04T10:32:04.829137Z"
    }
   },
   "outputs": [
    {
     "data": {
      "text/plain": [
       "0.7508710315801209"
      ]
     },
     "execution_count": 58,
     "metadata": {},
     "output_type": "execute_result"
    }
   ],
   "source": [
    "#Train Data Accuracy\n",
    "cart_train_acc=best_grid.score(X_train,train_labels) \n",
    "cart_train_acc"
   ]
  },
  {
   "cell_type": "code",
   "execution_count": 59,
   "metadata": {
    "ExecuteTime": {
     "end_time": "2022-02-04T10:32:05.005087Z",
     "start_time": "2022-02-04T10:32:04.877065Z"
    }
   },
   "outputs": [
    {
     "name": "stdout",
     "output_type": "stream",
     "text": [
      "              precision    recall  f1-score   support\n",
      "\n",
      "           0       0.62      0.74      0.68     12564\n",
      "           1       0.84      0.76      0.80     23313\n",
      "\n",
      "    accuracy                           0.75     35877\n",
      "   macro avg       0.73      0.75      0.74     35877\n",
      "weighted avg       0.77      0.75      0.76     35877\n",
      "\n"
     ]
    }
   ],
   "source": [
    "print(classification_report(train_labels, ytrain_predict))"
   ]
  },
  {
   "cell_type": "code",
   "execution_count": 60,
   "metadata": {
    "ExecuteTime": {
     "end_time": "2022-02-04T10:32:05.112919Z",
     "start_time": "2022-02-04T10:32:05.008884Z"
    }
   },
   "outputs": [
    {
     "name": "stdout",
     "output_type": "stream",
     "text": [
      "cart_train_precision  0.84\n",
      "cart_train_recall  0.76\n",
      "cart_train_f1  0.8\n"
     ]
    }
   ],
   "source": [
    "cart_metrics=classification_report(train_labels, ytrain_predict,output_dict=True)\n",
    "df=pd.DataFrame(cart_metrics).transpose()\n",
    "cart_train_precision=round(df.loc[\"1\"][0],2)\n",
    "cart_train_recall=round(df.loc[\"1\"][1],2)\n",
    "cart_train_f1=round(df.loc[\"1\"][2],2)\n",
    "print ('cart_train_precision ',cart_train_precision)\n",
    "print ('cart_train_recall ',cart_train_recall)\n",
    "print ('cart_train_f1 ',cart_train_f1)"
   ]
  },
  {
   "cell_type": "markdown",
   "metadata": {},
   "source": [
    "### Confusion Matrix for test data"
   ]
  },
  {
   "cell_type": "code",
   "execution_count": 61,
   "metadata": {
    "ExecuteTime": {
     "end_time": "2022-02-04T10:32:05.146472Z",
     "start_time": "2022-02-04T10:32:05.112919Z"
    }
   },
   "outputs": [
    {
     "data": {
      "text/plain": [
       "array([[3851, 1534],\n",
       "       [2517, 7474]], dtype=int64)"
      ]
     },
     "execution_count": 61,
     "metadata": {},
     "output_type": "execute_result"
    }
   ],
   "source": [
    "confusion_matrix(test_labels, ytest_predict)"
   ]
  },
  {
   "cell_type": "code",
   "execution_count": 62,
   "metadata": {
    "ExecuteTime": {
     "end_time": "2022-02-04T10:32:05.174340Z",
     "start_time": "2022-02-04T10:32:05.148934Z"
    }
   },
   "outputs": [
    {
     "data": {
      "text/plain": [
       "0.7365374609781478"
      ]
     },
     "execution_count": 62,
     "metadata": {},
     "output_type": "execute_result"
    }
   ],
   "source": [
    "#Test Data Accuracy\n",
    "cart_test_acc=best_grid.score(X_test,test_labels)\n",
    "cart_test_acc"
   ]
  },
  {
   "cell_type": "code",
   "execution_count": 63,
   "metadata": {
    "ExecuteTime": {
     "end_time": "2022-02-04T10:32:05.250762Z",
     "start_time": "2022-02-04T10:32:05.178264Z"
    }
   },
   "outputs": [
    {
     "name": "stdout",
     "output_type": "stream",
     "text": [
      "              precision    recall  f1-score   support\n",
      "\n",
      "           0       0.60      0.72      0.66      5385\n",
      "           1       0.83      0.75      0.79      9991\n",
      "\n",
      "    accuracy                           0.74     15376\n",
      "   macro avg       0.72      0.73      0.72     15376\n",
      "weighted avg       0.75      0.74      0.74     15376\n",
      "\n"
     ]
    }
   ],
   "source": [
    "print(classification_report(test_labels, ytest_predict))"
   ]
  },
  {
   "cell_type": "code",
   "execution_count": 64,
   "metadata": {
    "ExecuteTime": {
     "end_time": "2022-02-04T10:32:05.324111Z",
     "start_time": "2022-02-04T10:32:05.250762Z"
    }
   },
   "outputs": [
    {
     "name": "stdout",
     "output_type": "stream",
     "text": [
      "cart_train_precision  0.83\n",
      "cart_train_recall  0.75\n",
      "cart_train_f1  0.79\n"
     ]
    }
   ],
   "source": [
    "cart_metrics=classification_report(test_labels, ytest_predict,output_dict=True)\n",
    "df=pd.DataFrame(cart_metrics).transpose()\n",
    "cart_test_precision=round(df.loc[\"1\"][0],2)\n",
    "cart_test_recall=round(df.loc[\"1\"][1],2)\n",
    "cart_test_f1=round(df.loc[\"1\"][2],2)\n",
    "print ('cart_train_precision ',cart_test_precision)\n",
    "print ('cart_train_recall ',cart_test_recall)\n",
    "print ('cart_train_f1 ',cart_test_f1)"
   ]
  },
  {
   "cell_type": "markdown",
   "metadata": {},
   "source": [
    "# Cart Conclusion"
   ]
  },
  {
   "cell_type": "markdown",
   "metadata": {},
   "source": [
    "<b>Train Data:</b>  \n",
    "    AUC: 84.7%        \n",
    "    Accuracy: 75.5%        \n",
    "    Sensitivity: 78%     \n",
    "    Precision: 84%        \n",
    "    f1-Score: 81%       \n",
    "            \n",
    "<b>Test Data:</b>      \n",
    "    AUC: 83.5%      \n",
    "    Accuracy:74.4%      \n",
    "    Sensitivity: 77%    \n",
    "    Precision: 83%       \n",
    "    f1-Score: 80%     \n",
    "  \n",
    "Training and Test set results are almost similar, and with the overall measures high, the model is a good model.  \n",
    "  \n",
    "Change is the most important variable for predicting diabetes"
   ]
  },
  {
   "cell_type": "markdown",
   "metadata": {},
   "source": [
    "# Building a Random Forest Classifier"
   ]
  },
  {
   "cell_type": "markdown",
   "metadata": {},
   "source": [
    "### Grid Search for finding out the optimal values for the hyper parameters"
   ]
  },
  {
   "cell_type": "markdown",
   "metadata": {},
   "source": [
    "Due to large volume of data, trying for different parameter values in the gridsearch with higher cv value will lead to performance issues and model will run for much longer time"
   ]
  },
  {
   "cell_type": "code",
   "execution_count": 65,
   "metadata": {
    "ExecuteTime": {
     "end_time": "2022-02-04T10:32:05.341713Z",
     "start_time": "2022-02-04T10:32:05.327221Z"
    }
   },
   "outputs": [],
   "source": [
    "param_grid = {\n",
    "    'max_depth': [10],\n",
    "    'max_features': [6],\n",
    "    'min_samples_leaf': [10],\n",
    "    'min_samples_split': [50],\n",
    "    'n_estimators': [300]\n",
    "}\n",
    "\n",
    "rfcl = RandomForestClassifier()\n",
    "\n",
    "grid_search = GridSearchCV(estimator = rfcl, param_grid = param_grid, cv = 5)"
   ]
  },
  {
   "cell_type": "code",
   "execution_count": 66,
   "metadata": {
    "ExecuteTime": {
     "end_time": "2022-02-04T10:33:21.106649Z",
     "start_time": "2022-02-04T10:32:05.342208Z"
    }
   },
   "outputs": [
    {
     "data": {
      "text/plain": [
       "GridSearchCV(cv=5, estimator=RandomForestClassifier(),\n",
       "             param_grid={'max_depth': [10], 'max_features': [6],\n",
       "                         'min_samples_leaf': [10], 'min_samples_split': [50],\n",
       "                         'n_estimators': [300]})"
      ]
     },
     "execution_count": 66,
     "metadata": {},
     "output_type": "execute_result"
    }
   ],
   "source": [
    "grid_search.fit(X_train, train_labels)"
   ]
  },
  {
   "cell_type": "code",
   "execution_count": 67,
   "metadata": {
    "ExecuteTime": {
     "end_time": "2022-02-04T10:33:21.129441Z",
     "start_time": "2022-02-04T10:33:21.108964Z"
    }
   },
   "outputs": [
    {
     "data": {
      "text/plain": [
       "{'max_depth': 10,\n",
       " 'max_features': 6,\n",
       " 'min_samples_leaf': 10,\n",
       " 'min_samples_split': 50,\n",
       " 'n_estimators': 300}"
      ]
     },
     "execution_count": 67,
     "metadata": {},
     "output_type": "execute_result"
    }
   ],
   "source": [
    "grid_search.best_params_"
   ]
  },
  {
   "cell_type": "code",
   "execution_count": 68,
   "metadata": {
    "ExecuteTime": {
     "end_time": "2022-02-04T10:33:21.150794Z",
     "start_time": "2022-02-04T10:33:21.130878Z"
    }
   },
   "outputs": [],
   "source": [
    "best_grid = grid_search.best_estimator_"
   ]
  },
  {
   "cell_type": "code",
   "execution_count": 69,
   "metadata": {
    "ExecuteTime": {
     "end_time": "2022-02-04T10:33:21.169610Z",
     "start_time": "2022-02-04T10:33:21.153491Z"
    }
   },
   "outputs": [
    {
     "data": {
      "text/plain": [
       "RandomForestClassifier(max_depth=10, max_features=6, min_samples_leaf=10,\n",
       "                       min_samples_split=50, n_estimators=300)"
      ]
     },
     "execution_count": 69,
     "metadata": {},
     "output_type": "execute_result"
    }
   ],
   "source": [
    "best_grid"
   ]
  },
  {
   "cell_type": "markdown",
   "metadata": {},
   "source": [
    "## Predicting the Training and Testing data"
   ]
  },
  {
   "cell_type": "code",
   "execution_count": 70,
   "metadata": {
    "ExecuteTime": {
     "end_time": "2022-02-04T10:33:24.746526Z",
     "start_time": "2022-02-04T10:33:21.169610Z"
    }
   },
   "outputs": [],
   "source": [
    "ytrain_predict = best_grid.predict(X_train)\n",
    "ytest_predict = best_grid.predict(X_test)"
   ]
  },
  {
   "cell_type": "markdown",
   "metadata": {},
   "source": [
    "## RF Model Performance Evaluation on Training data"
   ]
  },
  {
   "cell_type": "code",
   "execution_count": 71,
   "metadata": {
    "ExecuteTime": {
     "end_time": "2022-02-04T10:33:24.773470Z",
     "start_time": "2022-02-04T10:33:24.746526Z"
    }
   },
   "outputs": [
    {
     "data": {
      "text/plain": [
       "array([[10492,  2072],\n",
       "       [ 6083, 17230]], dtype=int64)"
      ]
     },
     "execution_count": 71,
     "metadata": {},
     "output_type": "execute_result"
    }
   ],
   "source": [
    "confusion_matrix(train_labels,ytrain_predict)"
   ]
  },
  {
   "cell_type": "code",
   "execution_count": 72,
   "metadata": {
    "ExecuteTime": {
     "end_time": "2022-02-04T10:33:27.061475Z",
     "start_time": "2022-02-04T10:33:24.773470Z"
    }
   },
   "outputs": [
    {
     "data": {
      "text/plain": [
       "0.772695598851632"
      ]
     },
     "execution_count": 72,
     "metadata": {},
     "output_type": "execute_result"
    }
   ],
   "source": [
    "rf_train_acc=best_grid.score(X_train,train_labels) \n",
    "rf_train_acc"
   ]
  },
  {
   "cell_type": "code",
   "execution_count": 73,
   "metadata": {
    "ExecuteTime": {
     "end_time": "2022-02-04T10:33:27.179497Z",
     "start_time": "2022-02-04T10:33:27.061475Z"
    }
   },
   "outputs": [
    {
     "name": "stdout",
     "output_type": "stream",
     "text": [
      "              precision    recall  f1-score   support\n",
      "\n",
      "           0       0.63      0.84      0.72     12564\n",
      "           1       0.89      0.74      0.81     23313\n",
      "\n",
      "    accuracy                           0.77     35877\n",
      "   macro avg       0.76      0.79      0.76     35877\n",
      "weighted avg       0.80      0.77      0.78     35877\n",
      "\n"
     ]
    }
   ],
   "source": [
    "print(classification_report(train_labels,ytrain_predict))"
   ]
  },
  {
   "cell_type": "code",
   "execution_count": 74,
   "metadata": {
    "ExecuteTime": {
     "end_time": "2022-02-04T10:33:27.279164Z",
     "start_time": "2022-02-04T10:33:27.179497Z"
    }
   },
   "outputs": [
    {
     "name": "stdout",
     "output_type": "stream",
     "text": [
      "rf_train_precision  0.89\n",
      "rf_train_recall  0.74\n",
      "rf_train_f1  0.81\n"
     ]
    }
   ],
   "source": [
    "rf_metrics=classification_report(train_labels, ytrain_predict,output_dict=True)\n",
    "df=pd.DataFrame(rf_metrics).transpose()\n",
    "rf_train_precision=round(df.loc[\"1\"][0],2)\n",
    "rf_train_recall=round(df.loc[\"1\"][1],2)\n",
    "rf_train_f1=round(df.loc[\"1\"][2],2)\n",
    "print ('rf_train_precision ',rf_train_precision)\n",
    "print ('rf_train_recall ',rf_train_recall)\n",
    "print ('rf_train_f1 ',rf_train_f1)"
   ]
  },
  {
   "cell_type": "code",
   "execution_count": 75,
   "metadata": {
    "ExecuteTime": {
     "end_time": "2022-02-04T10:33:32.442620Z",
     "start_time": "2022-02-04T10:33:27.279900Z"
    }
   },
   "outputs": [
    {
     "name": "stdout",
     "output_type": "stream",
     "text": [
      "Area under Curve is 0.7870784942310145\n"
     ]
    },
    {
     "data": {
      "image/png": "[encoded data removed]",
      "text/plain": [
       "<Figure size 432x288 with 1 Axes>"
      ]
     },
     "metadata": {},
     "output_type": "display_data"
    }
   ],
   "source": [
    "rf_train_fpr, rf_train_tpr,_=roc_curve(train_labels,best_grid.predict_proba(X_train)[:,1])\n",
    "plt.plot(rf_train_fpr,rf_train_tpr,color='green')\n",
    "plt.plot([0, 1], [0, 1], linestyle='--')\n",
    "plt.xlabel('False Positive Rate')\n",
    "plt.ylabel('True Positive Rate')\n",
    "plt.title('ROC')\n",
    "rf_train_auc=roc_auc_score(train_labels,best_grid.predict(X_train))\n",
    "print('Area under Curve is', rf_train_auc)"
   ]
  },
  {
   "cell_type": "markdown",
   "metadata": {},
   "source": [
    "## RF Model Performance Evaluation on Test data"
   ]
  },
  {
   "cell_type": "code",
   "execution_count": 76,
   "metadata": {
    "ExecuteTime": {
     "end_time": "2022-02-04T10:33:32.474691Z",
     "start_time": "2022-02-04T10:33:32.442620Z"
    }
   },
   "outputs": [
    {
     "data": {
      "text/plain": [
       "array([[4311, 1074],\n",
       "       [2780, 7211]], dtype=int64)"
      ]
     },
     "execution_count": 76,
     "metadata": {},
     "output_type": "execute_result"
    }
   ],
   "source": [
    "confusion_matrix(test_labels,ytest_predict)"
   ]
  },
  {
   "cell_type": "code",
   "execution_count": 77,
   "metadata": {
    "ExecuteTime": {
     "end_time": "2022-02-04T10:33:33.599457Z",
     "start_time": "2022-02-04T10:33:32.476998Z"
    }
   },
   "outputs": [
    {
     "data": {
      "text/plain": [
       "0.7493496357960457"
      ]
     },
     "execution_count": 77,
     "metadata": {},
     "output_type": "execute_result"
    }
   ],
   "source": [
    "rf_test_acc=best_grid.score(X_test,test_labels)\n",
    "rf_test_acc"
   ]
  },
  {
   "cell_type": "code",
   "execution_count": 78,
   "metadata": {
    "ExecuteTime": {
     "end_time": "2022-02-04T10:33:33.663492Z",
     "start_time": "2022-02-04T10:33:33.602496Z"
    }
   },
   "outputs": [
    {
     "name": "stdout",
     "output_type": "stream",
     "text": [
      "              precision    recall  f1-score   support\n",
      "\n",
      "           0       0.61      0.80      0.69      5385\n",
      "           1       0.87      0.72      0.79      9991\n",
      "\n",
      "    accuracy                           0.75     15376\n",
      "   macro avg       0.74      0.76      0.74     15376\n",
      "weighted avg       0.78      0.75      0.75     15376\n",
      "\n"
     ]
    }
   ],
   "source": [
    "print(classification_report(test_labels,ytest_predict))"
   ]
  },
  {
   "cell_type": "code",
   "execution_count": 79,
   "metadata": {
    "ExecuteTime": {
     "end_time": "2022-02-04T10:33:33.743193Z",
     "start_time": "2022-02-04T10:33:33.663492Z"
    }
   },
   "outputs": [
    {
     "name": "stdout",
     "output_type": "stream",
     "text": [
      "rf_test_precision  0.87\n",
      "rf_test_recall  0.72\n",
      "rf_test_f1  0.79\n"
     ]
    }
   ],
   "source": [
    "rf_metrics=classification_report(test_labels, ytest_predict,output_dict=True)\n",
    "df=pd.DataFrame(rf_metrics).transpose()\n",
    "rf_test_precision=round(df.loc[\"1\"][0],2)\n",
    "rf_test_recall=round(df.loc[\"1\"][1],2)\n",
    "rf_test_f1=round(df.loc[\"1\"][2],2)\n",
    "print ('rf_test_precision ',rf_test_precision)\n",
    "print ('rf_test_recall ',rf_test_recall)\n",
    "print ('rf_test_f1 ',rf_test_f1)"
   ]
  },
  {
   "cell_type": "code",
   "execution_count": 80,
   "metadata": {
    "ExecuteTime": {
     "end_time": "2022-02-04T10:33:36.251631Z",
     "start_time": "2022-02-04T10:33:33.743193Z"
    }
   },
   "outputs": [
    {
     "name": "stdout",
     "output_type": "stream",
     "text": [
      "Area under Curve is 0.7611533388406111\n"
     ]
    },
    {
     "data": {
      "image/png": "[encoded data removed]",
      "text/plain": [
       "<Figure size 432x288 with 1 Axes>"
      ]
     },
     "metadata": {},
     "output_type": "display_data"
    }
   ],
   "source": [
    "rf_test_fpr, rf_test_tpr,_=roc_curve(test_labels,best_grid.predict_proba(X_test)[:,1])\n",
    "plt.plot(rf_test_fpr,rf_test_tpr,color='green')\n",
    "plt.plot([0, 1], [0, 1], linestyle='--')\n",
    "plt.xlabel('False Positive Rate')\n",
    "plt.ylabel('True Positive Rate')\n",
    "plt.title('ROC')\n",
    "rf_test_auc=roc_auc_score(test_labels,best_grid.predict(X_test))\n",
    "print('Area under Curve is', rf_test_auc)"
   ]
  },
  {
   "cell_type": "code",
   "execution_count": 81,
   "metadata": {
    "ExecuteTime": {
     "end_time": "2022-02-04T10:33:36.487978Z",
     "start_time": "2022-02-04T10:33:36.253444Z"
    }
   },
   "outputs": [
    {
     "name": "stdout",
     "output_type": "stream",
     "text": [
      "                               Imp\n",
      "change                    0.789602\n",
      "num_medications           0.066731\n",
      "number_diagnoses          0.032695\n",
      "num_lab_procedures        0.020853\n",
      "age                       0.017729\n",
      "time_in_hospital          0.017146\n",
      "num_procedures            0.013450\n",
      "admission_source_id       0.009010\n",
      "admission_type_id         0.007179\n",
      "discharge_disposition_id  0.006312\n",
      "race                      0.005770\n",
      "number_inpatient          0.004861\n",
      "number_outpatient         0.003809\n",
      "gender                    0.003110\n",
      "number_emergency          0.001745\n"
     ]
    }
   ],
   "source": [
    "# Variable Importance\n",
    "print (pd.DataFrame(best_grid.feature_importances_, columns = [\"Imp\"], index = X_train.columns).sort_values('Imp',ascending=False))"
   ]
  },
  {
   "cell_type": "markdown",
   "metadata": {},
   "source": [
    "# Random Forest Conclusion"
   ]
  },
  {
   "cell_type": "markdown",
   "metadata": {},
   "source": [
    "# Building a Neural Network Classifier"
   ]
  },
  {
   "cell_type": "code",
   "execution_count": 82,
   "metadata": {
    "ExecuteTime": {
     "end_time": "2022-02-04T10:33:36.539828Z",
     "start_time": "2022-02-04T10:33:36.495852Z"
    }
   },
   "outputs": [],
   "source": [
    "from sklearn.preprocessing import StandardScaler\n",
    "sc = StandardScaler()\n",
    "X_train_scaled = sc.fit_transform(X_train)\n",
    "X_test_scaled = sc.transform(X_test)"
   ]
  },
  {
   "cell_type": "code",
   "execution_count": 83,
   "metadata": {
    "ExecuteTime": {
     "end_time": "2022-02-04T10:33:36.555764Z",
     "start_time": "2022-02-04T10:33:36.539828Z"
    }
   },
   "outputs": [],
   "source": [
    "param_grid = {\n",
    "    'hidden_layer_sizes': [100], #,50,200(200,200) \n",
    "    'max_iter': [7000], #5000,2500\n",
    "    'solver': ['adam'], #sgd\n",
    "    'tol': [0.01], \n",
    "}\n",
    "\n",
    "nncl = MLPClassifier()\n",
    "\n",
    "grid_search = GridSearchCV(estimator = nncl, param_grid = param_grid, cv = 10)"
   ]
  },
  {
   "cell_type": "code",
   "execution_count": 84,
   "metadata": {
    "ExecuteTime": {
     "end_time": "2022-02-04T10:34:18.992606Z",
     "start_time": "2022-02-04T10:33:36.555764Z"
    }
   },
   "outputs": [
    {
     "data": {
      "text/plain": [
       "{'hidden_layer_sizes': 100, 'max_iter': 7000, 'solver': 'adam', 'tol': 0.01}"
      ]
     },
     "execution_count": 84,
     "metadata": {},
     "output_type": "execute_result"
    }
   ],
   "source": [
    "grid_search.fit(X_train_scaled, train_labels)\n",
    "grid_search.best_params_\n",
    "#{'hidden_layer_sizes': 100, 'max_iter': 7000, 'solver': 'adam', 'tol': 0.01}"
   ]
  },
  {
   "cell_type": "code",
   "execution_count": 85,
   "metadata": {
    "ExecuteTime": {
     "end_time": "2022-02-04T10:34:19.013723Z",
     "start_time": "2022-02-04T10:34:18.996738Z"
    }
   },
   "outputs": [
    {
     "data": {
      "text/plain": [
       "MLPClassifier(hidden_layer_sizes=100, max_iter=7000, tol=0.01)"
      ]
     },
     "execution_count": 85,
     "metadata": {},
     "output_type": "execute_result"
    }
   ],
   "source": [
    "best_grid = grid_search.best_estimator_\n",
    "best_grid"
   ]
  },
  {
   "cell_type": "markdown",
   "metadata": {},
   "source": [
    "## Predicting the Training and Testing data"
   ]
  },
  {
   "cell_type": "code",
   "execution_count": 86,
   "metadata": {
    "ExecuteTime": {
     "end_time": "2022-02-04T10:34:19.142356Z",
     "start_time": "2022-02-04T10:34:19.017269Z"
    }
   },
   "outputs": [],
   "source": [
    "ytrain_predict = best_grid.predict(X_train_scaled)\n",
    "ytest_predict = best_grid.predict(X_test_scaled)"
   ]
  },
  {
   "cell_type": "markdown",
   "metadata": {},
   "source": [
    "## NN Model Performance Evaluation on Training data"
   ]
  },
  {
   "cell_type": "code",
   "execution_count": 87,
   "metadata": {
    "ExecuteTime": {
     "end_time": "2022-02-04T10:34:19.166639Z",
     "start_time": "2022-02-04T10:34:19.142356Z"
    }
   },
   "outputs": [
    {
     "data": {
      "text/plain": [
       "array([[10194,  2370],\n",
       "       [ 6497, 16816]], dtype=int64)"
      ]
     },
     "execution_count": 87,
     "metadata": {},
     "output_type": "execute_result"
    }
   ],
   "source": [
    "confusion_matrix(train_labels,ytrain_predict)"
   ]
  },
  {
   "cell_type": "code",
   "execution_count": 88,
   "metadata": {
    "ExecuteTime": {
     "end_time": "2022-02-04T10:34:19.272627Z",
     "start_time": "2022-02-04T10:34:19.168814Z"
    }
   },
   "outputs": [
    {
     "data": {
      "text/plain": [
       "0.7528500153301558"
      ]
     },
     "execution_count": 88,
     "metadata": {},
     "output_type": "execute_result"
    }
   ],
   "source": [
    "nn_train_acc=best_grid.score(X_train_scaled,train_labels) \n",
    "nn_train_acc"
   ]
  },
  {
   "cell_type": "code",
   "execution_count": 89,
   "metadata": {
    "ExecuteTime": {
     "end_time": "2022-02-04T10:34:19.415104Z",
     "start_time": "2022-02-04T10:34:19.275669Z"
    }
   },
   "outputs": [
    {
     "name": "stdout",
     "output_type": "stream",
     "text": [
      "              precision    recall  f1-score   support\n",
      "\n",
      "           0       0.61      0.81      0.70     12564\n",
      "           1       0.88      0.72      0.79     23313\n",
      "\n",
      "    accuracy                           0.75     35877\n",
      "   macro avg       0.74      0.77      0.74     35877\n",
      "weighted avg       0.78      0.75      0.76     35877\n",
      "\n"
     ]
    }
   ],
   "source": [
    "print(classification_report(train_labels,ytrain_predict))"
   ]
  },
  {
   "cell_type": "code",
   "execution_count": 90,
   "metadata": {
    "ExecuteTime": {
     "end_time": "2022-02-04T10:34:19.541531Z",
     "start_time": "2022-02-04T10:34:19.418376Z"
    }
   },
   "outputs": [
    {
     "name": "stdout",
     "output_type": "stream",
     "text": [
      "nn_train_precision  0.88\n",
      "nn_train_recall  0.72\n",
      "nn_train_f1  0.79\n"
     ]
    }
   ],
   "source": [
    "nn_metrics=classification_report(train_labels, ytrain_predict,output_dict=True)\n",
    "df=pd.DataFrame(nn_metrics).transpose()\n",
    "nn_train_precision=round(df.loc[\"1\"][0],2)\n",
    "nn_train_recall=round(df.loc[\"1\"][1],2)\n",
    "nn_train_f1=round(df.loc[\"1\"][2],2)\n",
    "print ('nn_train_precision ',nn_train_precision)\n",
    "print ('nn_train_recall ',nn_train_recall)\n",
    "print ('nn_train_f1 ',nn_train_f1)"
   ]
  },
  {
   "cell_type": "code",
   "execution_count": 91,
   "metadata": {
    "ExecuteTime": {
     "end_time": "2022-02-04T10:34:20.010930Z",
     "start_time": "2022-02-04T10:34:19.542311Z"
    }
   },
   "outputs": [
    {
     "name": "stdout",
     "output_type": "stream",
     "text": [
      "Area under Curve is 0.5298050970409703\n"
     ]
    },
    {
     "data": {
      "image/png": "[encoded data removed]",
      "text/plain": [
       "<Figure size 432x288 with 1 Axes>"
      ]
     },
     "metadata": {},
     "output_type": "display_data"
    }
   ],
   "source": [
    "nn_train_fpr, nn_train_tpr,_=roc_curve(train_labels,best_grid.predict_proba(X_train)[:,1])\n",
    "plt.plot(nn_train_fpr,nn_train_tpr,color='black')\n",
    "plt.plot([0, 1], [0, 1], linestyle='--')\n",
    "plt.xlabel('False Positive Rate')\n",
    "plt.ylabel('True Positive Rate')\n",
    "plt.title('ROC')\n",
    "nn_train_auc=roc_auc_score(train_labels,best_grid.predict(X_train))\n",
    "print('Area under Curve is', nn_train_auc)"
   ]
  },
  {
   "cell_type": "markdown",
   "metadata": {},
   "source": [
    "## NN Model Performance Evaluation on Test data"
   ]
  },
  {
   "cell_type": "code",
   "execution_count": 92,
   "metadata": {
    "ExecuteTime": {
     "end_time": "2022-02-04T10:34:20.033857Z",
     "start_time": "2022-02-04T10:34:20.010930Z"
    }
   },
   "outputs": [
    {
     "data": {
      "text/plain": [
       "array([[4287, 1098],\n",
       "       [2878, 7113]], dtype=int64)"
      ]
     },
     "execution_count": 92,
     "metadata": {},
     "output_type": "execute_result"
    }
   ],
   "source": [
    "confusion_matrix(test_labels,ytest_predict)"
   ]
  },
  {
   "cell_type": "code",
   "execution_count": 93,
   "metadata": {
    "ExecuteTime": {
     "end_time": "2022-02-04T10:34:20.093705Z",
     "start_time": "2022-02-04T10:34:20.035369Z"
    }
   },
   "outputs": [
    {
     "data": {
      "text/plain": [
       "0.7414151925078044"
      ]
     },
     "execution_count": 93,
     "metadata": {},
     "output_type": "execute_result"
    }
   ],
   "source": [
    "nn_test_acc=best_grid.score(X_test_scaled,test_labels)\n",
    "nn_test_acc"
   ]
  },
  {
   "cell_type": "code",
   "execution_count": 94,
   "metadata": {
    "ExecuteTime": {
     "end_time": "2022-02-04T10:34:20.175317Z",
     "start_time": "2022-02-04T10:34:20.094203Z"
    }
   },
   "outputs": [
    {
     "name": "stdout",
     "output_type": "stream",
     "text": [
      "              precision    recall  f1-score   support\n",
      "\n",
      "           0       0.60      0.80      0.68      5385\n",
      "           1       0.87      0.71      0.78      9991\n",
      "\n",
      "    accuracy                           0.74     15376\n",
      "   macro avg       0.73      0.75      0.73     15376\n",
      "weighted avg       0.77      0.74      0.75     15376\n",
      "\n"
     ]
    }
   ],
   "source": [
    "print(classification_report(test_labels,ytest_predict))"
   ]
  },
  {
   "cell_type": "code",
   "execution_count": 95,
   "metadata": {
    "ExecuteTime": {
     "end_time": "2022-02-04T10:34:20.237481Z",
     "start_time": "2022-02-04T10:34:20.175684Z"
    }
   },
   "outputs": [
    {
     "name": "stdout",
     "output_type": "stream",
     "text": [
      "nn_test_precision  0.87\n",
      "nn_test_recall  0.71\n",
      "nn_test_f1  0.78\n"
     ]
    }
   ],
   "source": [
    "nn_metrics=classification_report(test_labels, ytest_predict,output_dict=True)\n",
    "df=pd.DataFrame(nn_metrics).transpose()\n",
    "nn_test_precision=round(df.loc[\"1\"][0],2)\n",
    "nn_test_recall=round(df.loc[\"1\"][1],2)\n",
    "nn_test_f1=round(df.loc[\"1\"][2],2)\n",
    "print ('nn_test_precision ',nn_test_precision)\n",
    "print ('nn_test_recall ',nn_test_recall)\n",
    "print ('nn_test_f1 ',nn_test_f1)"
   ]
  },
  {
   "cell_type": "code",
   "execution_count": 96,
   "metadata": {
    "ExecuteTime": {
     "end_time": "2022-02-04T10:34:20.666968Z",
     "start_time": "2022-02-04T10:34:20.237481Z"
    }
   },
   "outputs": [
    {
     "name": "stdout",
     "output_type": "stream",
     "text": [
      "Area under Curve is 0.5284735649270973\n"
     ]
    },
    {
     "data": {
      "image/png": "[encoded data removed]",
      "text/plain": [
       "<Figure size 432x288 with 1 Axes>"
      ]
     },
     "metadata": {},
     "output_type": "display_data"
    }
   ],
   "source": [
    "nn_test_fpr, nn_test_tpr,_=roc_curve(test_labels,best_grid.predict_proba(X_test)[:,1])\n",
    "plt.plot(nn_test_fpr,nn_test_tpr,color='black')\n",
    "plt.plot([0, 1], [0, 1], linestyle='--')\n",
    "plt.xlabel('False Positive Rate')\n",
    "plt.ylabel('True Positive Rate')\n",
    "plt.title('ROC')\n",
    "nn_test_auc=roc_auc_score(test_labels,best_grid.predict(X_test))\n",
    "print('Area under Curve is', nn_test_auc)"
   ]
  },
  {
   "cell_type": "code",
   "execution_count": 97,
   "metadata": {
    "ExecuteTime": {
     "end_time": "2022-02-04T10:34:20.685622Z",
     "start_time": "2022-02-04T10:34:20.666968Z"
    }
   },
   "outputs": [
    {
     "data": {
      "text/plain": [
       "<bound method ClassifierMixin.score of MLPClassifier(hidden_layer_sizes=100, max_iter=7000, tol=0.01)>"
      ]
     },
     "execution_count": 97,
     "metadata": {},
     "output_type": "execute_result"
    }
   ],
   "source": [
    "best_grid.score"
   ]
  },
  {
   "cell_type": "markdown",
   "metadata": {},
   "source": [
    "# Neural Network Conclusion"
   ]
  },
  {
   "cell_type": "markdown",
   "metadata": {},
   "source": [
    "# Final Conclusion"
   ]
  },
  {
   "cell_type": "markdown",
   "metadata": {},
   "source": [
    "## Comparison of the performance metrics from the 3 models"
   ]
  },
  {
   "cell_type": "code",
   "execution_count": 98,
   "metadata": {
    "ExecuteTime": {
     "end_time": "2022-02-04T10:34:20.733273Z",
     "start_time": "2022-02-04T10:34:20.685622Z"
    }
   },
   "outputs": [
    {
     "data": {
      "text/html": [
       "<div>\n",
       "<style scoped>\n",
       "    .dataframe tbody tr th:only-of-type {\n",
       "        vertical-align: middle;\n",
       "    }\n",
       "\n",
       "    .dataframe tbody tr th {\n",
       "        vertical-align: top;\n",
       "    }\n",
       "\n",
       "    .dataframe thead th {\n",
       "        text-align: right;\n",
       "    }\n",
       "</style>\n",
       "<table border=\"1\" class=\"dataframe\">\n",
       "  <thead>\n",
       "    <tr style=\"text-align: right;\">\n",
       "      <th></th>\n",
       "      <th>CART Train</th>\n",
       "      <th>CART Test</th>\n",
       "      <th>Random Forest Train</th>\n",
       "      <th>Random Forest Test</th>\n",
       "      <th>Neural Network Train</th>\n",
       "      <th>Neural Network Test</th>\n",
       "    </tr>\n",
       "  </thead>\n",
       "  <tbody>\n",
       "    <tr>\n",
       "      <th>Accuracy</th>\n",
       "      <td>0.75</td>\n",
       "      <td>0.74</td>\n",
       "      <td>0.77</td>\n",
       "      <td>0.75</td>\n",
       "      <td>0.75</td>\n",
       "      <td>0.74</td>\n",
       "    </tr>\n",
       "    <tr>\n",
       "      <th>AUC</th>\n",
       "      <td>0.84</td>\n",
       "      <td>0.83</td>\n",
       "      <td>0.79</td>\n",
       "      <td>0.76</td>\n",
       "      <td>0.53</td>\n",
       "      <td>0.53</td>\n",
       "    </tr>\n",
       "    <tr>\n",
       "      <th>Recall</th>\n",
       "      <td>0.76</td>\n",
       "      <td>0.75</td>\n",
       "      <td>0.74</td>\n",
       "      <td>0.72</td>\n",
       "      <td>0.72</td>\n",
       "      <td>0.71</td>\n",
       "    </tr>\n",
       "    <tr>\n",
       "      <th>Precision</th>\n",
       "      <td>0.84</td>\n",
       "      <td>0.83</td>\n",
       "      <td>0.89</td>\n",
       "      <td>0.87</td>\n",
       "      <td>0.88</td>\n",
       "      <td>0.87</td>\n",
       "    </tr>\n",
       "    <tr>\n",
       "      <th>F1 Score</th>\n",
       "      <td>0.80</td>\n",
       "      <td>0.79</td>\n",
       "      <td>0.81</td>\n",
       "      <td>0.79</td>\n",
       "      <td>0.79</td>\n",
       "      <td>0.78</td>\n",
       "    </tr>\n",
       "  </tbody>\n",
       "</table>\n",
       "</div>"
      ],
      "text/plain": [
       "           CART Train  CART Test  Random Forest Train  Random Forest Test  \\\n",
       "Accuracy         0.75       0.74                 0.77                0.75   \n",
       "AUC              0.84       0.83                 0.79                0.76   \n",
       "Recall           0.76       0.75                 0.74                0.72   \n",
       "Precision        0.84       0.83                 0.89                0.87   \n",
       "F1 Score         0.80       0.79                 0.81                0.79   \n",
       "\n",
       "           Neural Network Train  Neural Network Test  \n",
       "Accuracy                   0.75                 0.74  \n",
       "AUC                        0.53                 0.53  \n",
       "Recall                     0.72                 0.71  \n",
       "Precision                  0.88                 0.87  \n",
       "F1 Score                   0.79                 0.78  "
      ]
     },
     "execution_count": 98,
     "metadata": {},
     "output_type": "execute_result"
    }
   ],
   "source": [
    "index=['Accuracy', 'AUC', 'Recall','Precision','F1 Score']\n",
    "data = pd.DataFrame({'CART Train':[cart_train_acc,cart_train_auc,cart_train_recall,cart_train_precision,cart_train_f1],\n",
    "        'CART Test':[cart_test_acc,cart_test_auc,cart_test_recall,cart_test_precision,cart_test_f1],\n",
    "       'Random Forest Train':[rf_train_acc,rf_train_auc,rf_train_recall,rf_train_precision,rf_train_f1],\n",
    "        'Random Forest Test':[rf_test_acc,rf_test_auc,rf_test_recall,rf_test_precision,rf_test_f1],\n",
    "       'Neural Network Train':[nn_train_acc,nn_train_auc,nn_train_recall,nn_train_precision,nn_train_f1],\n",
    "        'Neural Network Test':[nn_test_acc,nn_test_auc,nn_test_recall,nn_test_precision,nn_test_f1]},index=index)\n",
    "round(data,2)"
   ]
  },
  {
   "cell_type": "markdown",
   "metadata": {},
   "source": [
    "## ROC Curve for the 3 models on the Training data"
   ]
  },
  {
   "cell_type": "code",
   "execution_count": 99,
   "metadata": {
    "ExecuteTime": {
     "end_time": "2022-02-04T10:34:21.114811Z",
     "start_time": "2022-02-04T10:34:20.733273Z"
    }
   },
   "outputs": [
    {
     "data": {
      "text/plain": [
       "<matplotlib.legend.Legend at 0x1c6d52d3d90>"
      ]
     },
     "execution_count": 99,
     "metadata": {},
     "output_type": "execute_result"
    },
    {
     "data": {
      "image/png": "[encoded data removed]",
      "text/plain": [
       "<Figure size 432x288 with 1 Axes>"
      ]
     },
     "metadata": {},
     "output_type": "display_data"
    }
   ],
   "source": [
    "plt.plot([0, 1], [0, 1], linestyle='--')\n",
    "plt.plot(cart_train_fpr, cart_train_tpr,color='red',label=\"CART\")\n",
    "plt.plot(rf_train_fpr,rf_train_tpr,color='green',label=\"RF\")\n",
    "plt.plot(nn_train_fpr,nn_train_tpr,color='black',label=\"NN\")\n",
    "plt.xlabel('False Positive Rate')\n",
    "plt.ylabel('True Positive Rate')\n",
    "plt.title('ROC')\n",
    "plt.legend(bbox_to_anchor=(0., 1.02, 1., .102), loc='lower right')"
   ]
  },
  {
   "cell_type": "markdown",
   "metadata": {},
   "source": [
    "## ROC Curve for the 3 models on the Test data"
   ]
  },
  {
   "cell_type": "code",
   "execution_count": 100,
   "metadata": {
    "ExecuteTime": {
     "end_time": "2022-02-04T10:34:21.478841Z",
     "start_time": "2022-02-04T10:34:21.114811Z"
    }
   },
   "outputs": [
    {
     "data": {
      "text/plain": [
       "<matplotlib.legend.Legend at 0x1c6d6103fa0>"
      ]
     },
     "execution_count": 100,
     "metadata": {},
     "output_type": "execute_result"
    },
    {
     "data": {
      "image/png": "[encoded data removed]",
      "text/plain": [
       "<Figure size 432x288 with 1 Axes>"
      ]
     },
     "metadata": {},
     "output_type": "display_data"
    }
   ],
   "source": [
    "plt.plot([0, 1], [0, 1], linestyle='--')\n",
    "plt.plot(cart_test_fpr, cart_test_tpr,color='red',label=\"CART\")\n",
    "plt.plot(rf_test_fpr,rf_test_tpr,color='green',label=\"RF\")\n",
    "plt.plot(nn_test_fpr,nn_test_tpr,color='black',label=\"NN\")\n",
    "plt.xlabel('False Positive Rate')\n",
    "plt.ylabel('True Positive Rate')\n",
    "plt.title('ROC')\n",
    "plt.legend(bbox_to_anchor=(0., 1.02, 1., .102), loc='lower right')"
   ]
  },
  {
   "cell_type": "code",
   "execution_count": null,
   "metadata": {},
   "outputs": [],
   "source": []
  },
  {
   "cell_type": "code",
   "execution_count": null,
   "metadata": {},
   "outputs": [],
   "source": []
  }
 ],
 "metadata": {
  "kernelspec": {
   "display_name": "Python 3 (ipykernel)",
   "language": "python",
   "name": "python3"
  },
  "language_info": {
   "codemirror_mode": {
    "name": "ipython",
    "version": 3
   },
   "file_extension": ".py",
   "mimetype": "text/x-python",
   "name": "python",
   "nbconvert_exporter": "python",
   "pygments_lexer": "ipython3",
   "version": "3.9.7"
  }
 },
 "nbformat": 4,
 "nbformat_minor": 2
}
